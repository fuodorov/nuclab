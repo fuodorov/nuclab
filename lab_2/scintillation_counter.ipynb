{
 "cells": [
  {
   "cell_type": "markdown",
   "id": "c16c5c5f-4964-41b0-b4a3-1ea3c922a622",
   "metadata": {},
   "source": [
    "# Лабораторная работа № 2\n",
    "\n",
    "## Гамма-спектрометр на основе сцинтилляционного счетчика\n",
    "\n",
    "### Кафедра физики ускорителей\n",
    "\n",
    "[Вероника Бояркина](v.boyarkina@g.nsu.ru), [Вячеслав Федоров](v.fedorov3@g.nsu.ru), [Анна Шуклина](a.shuklina@g.nsu.ru)"
   ]
  },
  {
   "cell_type": "markdown",
   "id": "422f8343-3eb3-423e-baca-e9903f2b2143",
   "metadata": {},
   "source": [
    "## Теория"
   ]
  },
  {
   "cell_type": "markdown",
   "id": "d1e41074-e3df-4061-9b15-ef6d4fb560b6",
   "metadata": {},
   "source": [
    "### Принцип действия сцинтилляционного счётчика\n",
    "- Заряженная частица, проходя через сцинтиллятор, помимо ионизации атомов и\n",
    "молекул, возбуждает их.\n",
    "- Возвращаясь в невозбуждённое (основное) состояние, атомы испускают фотоны\n",
    "с энергией видимого, ближнего ультрафиолетового или инфракрасного\n",
    "диапазонов (сцинтилляция или радиолюминесценция).\n",
    "- Фотоны, попадая на катод ФЭУ, выбивают электроны, которые усиливаются\n",
    "внутри ФЭУ, в результате чего на аноде возникает электрический импульс,\n",
    "который дополнительно усиливается и регистрируется электроникой.\n",
    "- Детектирование нейтральных частиц (нейтронов, γ-квантов) происходит по\n",
    "вторичным заряженным частицам (электроны, позитроны, ядра отдачи и осколки\n",
    "расщепленных ядер), образующимся при взаимодействии нейтронов и γ-квантов\n",
    "с атомами сцинтиллятора."
   ]
  },
  {
   "cell_type": "markdown",
   "id": "a0ba2cf9-8405-4682-8a8d-2220fff9e45b",
   "metadata": {},
   "source": [
    "### ФЭУ\n",
    "\n",
    "Фотоэлектронный умножитель — это электровакуумный прибор, в котором\n",
    "для преобразования светового потока в поток электронов в вакууме\n",
    "используют внешний фотоэффект, а число электронов умножается за счёт\n",
    "эффекта вторичной эмиссии "
   ]
  },
  {
   "cell_type": "markdown",
   "id": "a978867c-15cb-451a-86d7-a5bd8d6ab86f",
   "metadata": {},
   "source": [
    "### Сцинтилляторы\n",
    "\n",
    "- Если принять коэффициент вторичной эмиссии\n",
    "одинаковым для всех n динодов, коэффициент усиления\n",
    "умножителя (G):\n",
    "- G=σ^n\n",
    "- Коэффициентом вторичной эмиссии (σ) называют среднее\n",
    "количество вторичных электронов, выбиваемых одним\n",
    "первичным электроном.роном."
   ]
  },
  {
   "cell_type": "markdown",
   "id": "cecff5b6-2cd0-4663-a4ec-7986ca14e0da",
   "metadata": {},
   "source": [
    "- Средняя амплитуда на аноде ФЭУ при\r\n",
    "регистрации вспышки из 𝑁_𝛾 фотонов:\r\n",
    "𝐴=𝑁_𝛾∗η∗𝜖_𝐶∗𝐺\r\n",
    "- ФЭУ также имеет отличную от единицы\r\n",
    "эффективность сбора фотоэлектронов на\r\n",
    "первый динод (𝜖_𝐶)."
   ]
  },
  {
   "cell_type": "markdown",
   "id": "9adb6b8b-6777-4abc-9262-97a58a5b5f7e",
   "metadata": {},
   "source": [
    "Конверсионная эффективность — эффективность преобразования сцинтиллятором энергии заряженной частицы в световую\r\n",
    "Световой выход — это число фотонов люминесценции на единицу энергии, потерянной ионизирующей частицей в\r\n",
    "сцинтилляторе\r\n",
    "Отклик сцинтилляционного счётчика характеризуют количеством фотоэлектронов, зарегистрированных ФЭУ, на единицу\r\n",
    "поглощенной в сцинтилляторе энергии (практическая эффективность):\r\n",
    "𝑁_(𝑝.𝑒.)/МэВ=𝐿∗𝜂∗𝑁_𝛾/МэВ\r\n",
    "𝐿 — коэффициент светосбора, 𝜂 — квантовая эффективность фотодетектора\r\n",
    "Чем больше практическая эффективность сцинтилляционного счётчика, тем лучше его энергетическое разрешение.\r\n",
    "Коэффициент светосбора L зависит от прозрачности сцинтиллятора к собственному излучению, формы и размера\r\n",
    "сцинтиллятора и световодов, качества поверхности и отражающего покрытия.\r\n",
    "Для максимальной практической эффективности счётчика необходимо, чтобы максимум спектра излучения сцинтиллятора\r\n",
    "совпадал с максимумом спектра квантовой эффективности фотодетектора.одетектора.одетектора."
   ]
  },
  {
   "cell_type": "markdown",
   "id": "2d06b270-189d-46f4-9a6e-cd5e32f452b7",
   "metadata": {},
   "source": [
    "Время высвечивания характеризует продолжительность световой вспышки\r\n",
    "сцинтиллятора\r\n",
    "𝐼(𝑡)=𝐼_0 exp(−𝑡/𝜏)\r\n",
    "τ — время высвечивания, в течение которого интенсивность падает в e раз"
   ]
  },
  {
   "cell_type": "markdown",
   "id": "db1882ba-ec41-42e0-aa51-21d4aaee5920",
   "metadata": {},
   "source": [
    "### Неорганические сцинтилляторы\n",
    "\n",
    "- Высокая плотность вещества и большой атомный номер, что способствует эффективному\n",
    "поглощению γ-квантов на небольшой толщине кристалла\n",
    "- Тяжелые неорганические кристаллы применяются для регистрации электронов (позитронов)\n",
    "высокой энергии\n",
    "- Механизм сцинтилляции неорганических кристаллов — зонная теория. я. "
   ]
  },
  {
   "cell_type": "markdown",
   "id": "c4fb555d-2204-4460-bdb3-3aeeedf0d326",
   "metadata": {},
   "source": [
    "### Органические сцинтилляторы\n",
    "\n",
    "Малый атомный номер (ZC = 6, ZH = 1), небольшая плотность (около 1 г/см3 ) и небольшая эффективность\r\n",
    "поглощения γ-квантов.\r\n",
    "Они применяются для регистрации заряженных частиц. Наиболее высокой конверсионной эффективностью\r\n",
    "обладают сцинтилляторы, содержащие ароматические соединения.\r\n",
    "Органические сцинтилляторы могут быть подразделены на три широких класса: кристаллы, пластики и\r\n",
    "жидкости.\r\n",
    "Кристаллы, такие как антрацен, стильбен и нафталин очень прочны и имеют довольно высокий световыход, но\r\n",
    "их люминесцентное излучение анизотропно, что ухудшает в определенных ситуациях энергетическое\r\n",
    "разрешение.\r\n",
    "Жидкие сцинтилляторы — раствор одного или нескольких флюоресцирующих веществ (p-терфенил, (b-)PBD,\r\n",
    "PPO и др.) в органическом растворителе (толуол, ксилол, бензол, декалин и т.п.). Также в растворитель могут\r\n",
    "быть добавлены спектросмещающие добавки (POPOP, bis-MSB, BBQ и др.) для лучшего согласования\r\n",
    "излучения со спектральной чувствительностью фотодетектора."
   ]
  },
  {
   "cell_type": "markdown",
   "id": "a8b6d248-1823-4531-9e7b-9e7a0f841165",
   "metadata": {},
   "source": [
    "•Пластические сцинтилляторы — раствор флюоресцентных добавок, который после\r\n",
    "полимеризации образует твердое вещество. В качестве полимерной основы чаще всего используют\r\n",
    "поливинилтолуол (ПВТ) или полистирол.\r\n",
    "•В органических сцинтилляторах отдельные молекулы слабо взаимодействуют друг с другом, то\r\n",
    "есть энергетические уровни отдельных молекул практически не возмущены присутствием соседних\r\n",
    "молекул. Поэтому можно считать, что характер взаимодействия заряженных частиц с веществом\r\n",
    "органического сцинтиллятора не зависит от его агрегатного состояния и сводится к ионизации и\r\n",
    "возбуждению отдельных молекул непосредственно заряженной частицей.\r\n",
    "Механизм сцинтилляций в органических материалах можно описать как последовательная\r\n",
    "передача энергии возбуждения от молекул основы к первичным центрам флуоресценции и затем к\r\n",
    "последующим центрам с постепенным понижением энергии излучаемых фотонов."
   ]
  },
  {
   "cell_type": "markdown",
   "id": "d6392a5b-742e-4da5-b1ae-285d3ecbd569",
   "metadata": {},
   "source": [
    "### Сцинтилляционный счётчик как гамма-спектрометр\r\n",
    "Гамма-спектрометр — прибор, измеряющий энергию γ-квантов\r\n",
    "Состоит из детектора γ-квантов (сцинтилляционного счётчика), линейного усилителя и\r\n",
    "амплитудного анализатора импульсов (ЗЦП или АЦП)\r\n",
    "Гамма-спектрометр должен иметь достаточно большую эффективность полного\r\n",
    "поглощения энергии γ-кванта и хорошее энергетическое разрешение. Для эффективного\r\n",
    "полного поглощения γ-кванта на небольшой длине в сцинтилляционных спектрометрах\r\n",
    "применяют неорганические кристаллы высокой плотности и с большим атомным номером\r\n",
    "элементов, входящих в их состав. Чтобы гамма-спектрометр имел хорошее энергетическое\r\n",
    "разрешение сцинтиллятор должен иметь высокий световыход, а счётчик в целом —\r\n",
    "высокую практическую эффективность и хорошую однородность светосбора.\r"
   ]
  },
  {
   "cell_type": "markdown",
   "id": "56903710-b880-4a88-9e07-78675a39ee35",
   "metadata": {},
   "source": [
    "### Эффективность гамма-спектрометра\n",
    "\n",
    "см. формулы в методичке"
   ]
  },
  {
   "cell_type": "markdown",
   "id": "6c09e024-e381-42df-9d85-12441eacc060",
   "metadata": {},
   "source": [
    "### Энергетическое разрешение гамма-спектрометра\n",
    "\n",
    "см. формулы в методичке"
   ]
  },
  {
   "attachments": {
    "25259bb8-3b10-40f1-976a-ec3660bd53d2.png": {
     "image/png": "[encoded data removed]"
    }
   },
   "cell_type": "markdown",
   "id": "8d1fd44f-000f-4d9f-8150-9a969683915e",
   "metadata": {},
   "source": [
    "### Установка\n",
    "\n",
    "![img.png](attachment:25259bb8-3b10-40f1-976a-ec3660bd53d2.png)"
   ]
  },
  {
   "cell_type": "markdown",
   "id": "bf9fceee-53cf-49f5-9bf1-8eeb7323ae9f",
   "metadata": {},
   "source": [
    "1 фотоэлектронный умножитель ФЭУ-143,\r\n",
    "2 высоковольтный источник B0308 (ВВИ),\r\n",
    "3 время-амплитудный блок (ТА),\r\n",
    "4 аттенюаторы — 2 блока A0608 (АТТ),\r\n",
    "5 блок ЗИФ D0302 (линия задержки + формирователь импульсов),\r\n",
    "6 зарядово-цифровой преобразователь C0312 (ЗЦП),\r\n",
    "7 сцинтилляторы в светоотражающей обертке с одной открытой гранью: NaI(Tl), ор-\r\n",
    "тогерманат висмута (BGO), пластический сцинтиллятор (на основе ПВТ),\r\n",
    "8 радиоактивный изотоп 137Cs."
   ]
  },
  {
   "cell_type": "markdown",
   "id": "38e15078-da9a-4197-a584-7fe1adb0710e",
   "metadata": {},
   "source": [
    "### Программное обеспечение\n",
    "\n",
    "ROOT"
   ]
  },
  {
   "cell_type": "markdown",
   "id": "1c986a8b-ddf0-4498-97ad-dd8f1fca43c1",
   "metadata": {},
   "source": [
    "## Задания"
   ]
  },
  {
   "cell_type": "markdown",
   "id": "2e85be08-59cf-413d-9a25-abf81b52c232",
   "metadata": {},
   "source": [
    "1. Убедиться, что кожух ФЭУ завинчен, чтобы наружный свет не попадал на фотока-\r\n",
    "тод."
   ]
  },
  {
   "cell_type": "markdown",
   "id": "a33dff7f-f938-4f66-9160-89e89a5b3b37",
   "metadata": {},
   "source": [
    "2. Запустить управляющую программу. Установить напряжение питания ФЭУ равное\r\n",
    "1300 В."
   ]
  },
  {
   "cell_type": "markdown",
   "id": "dc95cfcd-a7b6-433d-b9f1-277c8e1dbca9",
   "metadata": {},
   "source": [
    "3. При небольшом ослаблении (3+3 db) набрать амплитудный спектр импульсов темнового тока\r\n",
    "фотоумножителя и определить центр тяжести полученного распределения."
   ]
  },
  {
   "attachments": {
    "19c2a60c-a481-4941-9b5d-faaaf6e5d60f.png": {
     "image/png": "[encoded data removed]"
    }
   },
   "cell_type": "markdown",
   "id": "d86b0e3f-5dd2-4995-8798-70ebcfca6cba",
   "metadata": {},
   "source": [
    "![dark_current_1.png](attachment:19c2a60c-a481-4941-9b5d-faaaf6e5d60f.png)"
   ]
  },
  {
   "cell_type": "markdown",
   "id": "1c9fd8c9-d666-41a4-bc75-970eed8c290e",
   "metadata": {},
   "source": [
    "4. При том же значении ослабления откалибровать положение пьедестала, для чего\r\n",
    "набрать амплитудный спектр при значении задержки в первом канале ЗИФ равной\r\n",
    "50 мкс, при этом ворота ЗЦП будут не совпадать по времени с сигналом. Центр тя-\r\n",
    "жести спектра даст амплитуду, соответствующую пьедесталу. Пьедестал необходимо\r\n",
    "учитывать при определении амплитуды сигнального спектра."
   ]
  },
  {
   "attachments": {
    "b10c4937-d6c9-4691-8733-b2e7c7f475ad.png": {
     "image/png": "[encoded data removed]"
    }
   },
   "cell_type": "markdown",
   "id": "42bb7937-2b26-4953-b238-2126cf54fd4c",
   "metadata": {},
   "source": [
    "![pedestal.png](attachment:b10c4937-d6c9-4691-8733-b2e7c7f475ad.png)"
   ]
  },
  {
   "cell_type": "markdown",
   "id": "0e4d810d-2e8f-4aaa-ad1d-6f9b46e56411",
   "metadata": {},
   "source": [
    "5. Снять высокое напряжение и установить на фотокатод ФЭУ сцинтиллятор NaI(Tl)\r\n",
    "с изотопом 137Cs. Подать высокое напряжение на фотоумножитель и установить та-\r\n",
    "кое ослабление аттенюатора, чтобы наблюдать спектр импульсов, соответствующий"
   ]
  },
  {
   "cell_type": "markdown",
   "id": "8c81d6f0-4f96-4c17-a51f-2a0068d35f37",
   "metadata": {},
   "source": [
    "6. Набрать амплитудный спектр и определить амплитуды соответствующие максиму-\r\n",
    "му пика полного поглощения, краю спектра комптоновских электронов и максимуму\r\n",
    "пика обратного рассеяния. Также измерить полную ширину на полувысоте пика пол-\r\n",
    "ного поглощения (ПШПВ)."
   ]
  },
  {
   "attachments": {
    "c7b0f9f3-f41d-45b6-a76a-7153092a0843.png": {
     "image/png": "[encoded data removed]"
    }
   },
   "cell_type": "markdown",
   "id": "ac845fe1-d479-4f30-9c55-af8a273e4403",
   "metadata": {},
   "source": [
    "![Spectrum_NaI.png](attachment:c7b0f9f3-f41d-45b6-a76a-7153092a0843.png)"
   ]
  },
  {
   "cell_type": "markdown",
   "id": "efd4d172-e4ff-4d48-91b3-5e76315f4a5e",
   "metadata": {},
   "source": [
    "Не меняя ослабление, откалибровать пьедестал, как описано в п.4, и учесть его при\r\n",
    "вычислении амплитуд."
   ]
  },
  {
   "attachments": {
    "70b758e7-3209-41d3-af58-e3f91c8234c4.png": {
     "image/png": "[encoded data removed]"
    }
   },
   "cell_type": "markdown",
   "id": "b1f55cb1-2a9d-466d-a41f-4fa208296133",
   "metadata": {},
   "source": [
    "![pedestal_NaI.png](attachment:70b758e7-3209-41d3-af58-e3f91c8234c4.png)"
   ]
  },
  {
   "cell_type": "markdown",
   "id": "0ad8db94-7af1-4f46-8cd9-239eadcedc3d",
   "metadata": {},
   "source": [
    "7. Аналогично получить спектры импульсов для BGO и пластического сцинтиллятора.\r\n",
    "Для BGO измерить положение пика полного поглощения и ПШПВ, а для пласти-\r\n",
    "ческого сцинтиллятора — положение края спектра комптоновских электронов. Для\r\n",
    "обоих спектров откалибровать и учесть пьедестал."
   ]
  },
  {
   "attachments": {
    "ab60992d-2961-4603-ba0e-e34db52c9452.png": {
     "image/png": "[encoded data removed]"
    }
   },
   "cell_type": "markdown",
   "id": "91f61df8-8f18-4392-90f9-77bca94b9dcc",
   "metadata": {},
   "source": [
    "![Spectrum_BGO.png](attachment:ab60992d-2961-4603-ba0e-e34db52c9452.png)"
   ]
  },
  {
   "attachments": {
    "46032b29-0a14-4fb1-8c8e-d037d1333b7f.png": {
     "image/png": "[encoded data removed]"
    }
   },
   "cell_type": "markdown",
   "id": "70cf38fe-5d13-4480-9912-4ba9a0b0058f",
   "metadata": {},
   "source": [
    "![pedestal_BGO.png](attachment:46032b29-0a14-4fb1-8c8e-d037d1333b7f.png)"
   ]
  },
  {
   "attachments": {
    "7cb0077a-0f50-487b-bfe2-1b032468304b.png": {
     "image/png": "[encoded data removed]"
    }
   },
   "cell_type": "markdown",
   "id": "167b60e6-fb3d-40e2-83bd-65231f011550",
   "metadata": {},
   "source": [
    "![Spectrum_plastic.png](attachment:7cb0077a-0f50-487b-bfe2-1b032468304b.png)"
   ]
  },
  {
   "attachments": {
    "14898136-bad4-47f3-84f2-693f5c8ca990.png": {
     "image/png": "[encoded data removed]"
    }
   },
   "cell_type": "markdown",
   "id": "b8af6efc-ca8e-4e35-81d3-10b10c5f0be9",
   "metadata": {},
   "source": [
    "![pedestal_plastic.png](attachment:14898136-bad4-47f3-84f2-693f5c8ca990.png)"
   ]
  },
  {
   "cell_type": "markdown",
   "id": "a3458057-6249-4d61-a400-57119a6fe66c",
   "metadata": {},
   "source": [
    "8. Закончив измерения, не забудьте убрать изотоп 137Cs в свинцовый домик!"
   ]
  },
  {
   "cell_type": "markdown",
   "id": "09882394-5b76-4791-8534-92139bb8e566",
   "metadata": {},
   "source": [
    "## Обработка и представление результатов"
   ]
  },
  {
   "cell_type": "markdown",
   "id": "87d924e1-ac63-4ca7-b928-19069e06bec9",
   "metadata": {},
   "source": [
    "1. Для отчета необходимо иметь распечатанные амплитудные спектры темнового тока\r\n",
    "ФЭУ, сцинтилляционного счетчика с NaI(Tl), BGO, пластическим сцинтиллятором."
   ]
  },
  {
   "cell_type": "code",
   "execution_count": 16,
   "id": "1d5e8f1b-6663-4d14-85e9-7f4399ea2842",
   "metadata": {},
   "outputs": [],
   "source": [
    "import pandas as pd"
   ]
  },
  {
   "cell_type": "code",
   "execution_count": 17,
   "id": "43107396-1f62-4a42-a9aa-4db7453a104c",
   "metadata": {},
   "outputs": [],
   "source": [
    "columns = ['amplitude', 'scintillator', 'channel', 'width', 'attenuation']\n",
    "data_df = pd.DataFrame([[0, 'dark current', 224-134, 40,  3+3],\n",
    "                  [662, 'NaI', 2638-167, 300,  21+18],\n",
    "                  [184, 'NaI', 850-167, 300, 21+18],\n",
    "                  [662, 'BGO', 1136-135, 300,  21+3],\n",
    "                  [662, 'plastic', 1571-127, 300, 21+3],\n",
    "                  [478, 'plastic', 300-127, 500,  21+3]], \n",
    "                  columns=columns)"
   ]
  },
  {
   "cell_type": "code",
   "execution_count": 18,
   "id": "cc6d849a-ac6e-4087-8272-65084af17b92",
   "metadata": {},
   "outputs": [],
   "source": [
    "data_df['number'] = data_df['channel']/10**(-data_df['attenuation']/20)\n",
    "data_df['energy'] = data_df['amplitude']/data_df['number']"
   ]
  },
  {
   "cell_type": "code",
   "execution_count": 19,
   "id": "b41ba33b-726a-4260-958b-5764767abc68",
   "metadata": {},
   "outputs": [
    {
     "data": {
      "text/html": [
       "<div>\n",
       "<style scoped>\n",
       "    .dataframe tbody tr th:only-of-type {\n",
       "        vertical-align: middle;\n",
       "    }\n",
       "\n",
       "    .dataframe tbody tr th {\n",
       "        vertical-align: top;\n",
       "    }\n",
       "\n",
       "    .dataframe thead th {\n",
       "        text-align: right;\n",
       "    }\n",
       "</style>\n",
       "<table border=\"1\" class=\"dataframe\">\n",
       "  <thead>\n",
       "    <tr style=\"text-align: right;\">\n",
       "      <th></th>\n",
       "      <th>amplitude</th>\n",
       "      <th>scintillator</th>\n",
       "      <th>channel</th>\n",
       "      <th>width</th>\n",
       "      <th>attenuation</th>\n",
       "      <th>number</th>\n",
       "      <th>energy</th>\n",
       "    </tr>\n",
       "  </thead>\n",
       "  <tbody>\n",
       "    <tr>\n",
       "      <th>0</th>\n",
       "      <td>0</td>\n",
       "      <td>dark current</td>\n",
       "      <td>90</td>\n",
       "      <td>40</td>\n",
       "      <td>6</td>\n",
       "      <td>179.573608</td>\n",
       "      <td>0.000000</td>\n",
       "    </tr>\n",
       "    <tr>\n",
       "      <th>1</th>\n",
       "      <td>662</td>\n",
       "      <td>NaI</td>\n",
       "      <td>2471</td>\n",
       "      <td>300</td>\n",
       "      <td>39</td>\n",
       "      <td>220228.106813</td>\n",
       "      <td>0.003006</td>\n",
       "    </tr>\n",
       "    <tr>\n",
       "      <th>2</th>\n",
       "      <td>184</td>\n",
       "      <td>NaI</td>\n",
       "      <td>683</td>\n",
       "      <td>300</td>\n",
       "      <td>39</td>\n",
       "      <td>60872.439075</td>\n",
       "      <td>0.003023</td>\n",
       "    </tr>\n",
       "    <tr>\n",
       "      <th>3</th>\n",
       "      <td>662</td>\n",
       "      <td>BGO</td>\n",
       "      <td>1001</td>\n",
       "      <td>300</td>\n",
       "      <td>24</td>\n",
       "      <td>15864.780857</td>\n",
       "      <td>0.041728</td>\n",
       "    </tr>\n",
       "    <tr>\n",
       "      <th>4</th>\n",
       "      <td>662</td>\n",
       "      <td>plastic</td>\n",
       "      <td>1444</td>\n",
       "      <td>300</td>\n",
       "      <td>24</td>\n",
       "      <td>22885.857699</td>\n",
       "      <td>0.028926</td>\n",
       "    </tr>\n",
       "    <tr>\n",
       "      <th>5</th>\n",
       "      <td>478</td>\n",
       "      <td>plastic</td>\n",
       "      <td>173</td>\n",
       "      <td>500</td>\n",
       "      <td>24</td>\n",
       "      <td>2741.865223</td>\n",
       "      <td>0.174334</td>\n",
       "    </tr>\n",
       "  </tbody>\n",
       "</table>\n",
       "</div>"
      ],
      "text/plain": [
       "   amplitude  scintillator  channel  width  attenuation         number  \\\n",
       "0          0  dark current       90     40            6     179.573608   \n",
       "1        662           NaI     2471    300           39  220228.106813   \n",
       "2        184           NaI      683    300           39   60872.439075   \n",
       "3        662           BGO     1001    300           24   15864.780857   \n",
       "4        662       plastic     1444    300           24   22885.857699   \n",
       "5        478       plastic      173    500           24    2741.865223   \n",
       "\n",
       "     energy  \n",
       "0  0.000000  \n",
       "1  0.003006  \n",
       "2  0.003023  \n",
       "3  0.041728  \n",
       "4  0.028926  \n",
       "5  0.174334  "
      ]
     },
     "execution_count": 19,
     "metadata": {},
     "output_type": "execute_result"
    }
   ],
   "source": [
    "data_df"
   ]
  },
  {
   "cell_type": "markdown",
   "id": "6d0fdc24-a18b-4021-b8d2-145694250ae1",
   "metadata": {},
   "source": [
    "3. Определить энергетическое разрешение ∆E/E сцинтилляционного счетчика с кри-\r\n",
    "сталлом NaI(Tl) и с BGO. ∆E — полная ширина на половине высоты пика полного\r\n",
    "поглощения в кэВ, E = 662 кэВ."
   ]
  },
  {
   "cell_type": "code",
   "execution_count": 20,
   "id": "250b67fb-da5e-4d18-b26a-6994efd6af20",
   "metadata": {},
   "outputs": [],
   "source": [
    "data_df['resolution'] = data_df['width']/data_df['channel']"
   ]
  },
  {
   "cell_type": "code",
   "execution_count": 22,
   "id": "1db50d3b-d56f-4c83-9fea-5f8bfc4dfe4a",
   "metadata": {},
   "outputs": [
    {
     "data": {
      "text/html": [
       "<div>\n",
       "<style scoped>\n",
       "    .dataframe tbody tr th:only-of-type {\n",
       "        vertical-align: middle;\n",
       "    }\n",
       "\n",
       "    .dataframe tbody tr th {\n",
       "        vertical-align: top;\n",
       "    }\n",
       "\n",
       "    .dataframe thead th {\n",
       "        text-align: right;\n",
       "    }\n",
       "</style>\n",
       "<table border=\"1\" class=\"dataframe\">\n",
       "  <thead>\n",
       "    <tr style=\"text-align: right;\">\n",
       "      <th></th>\n",
       "      <th>amplitude</th>\n",
       "      <th>scintillator</th>\n",
       "      <th>channel</th>\n",
       "      <th>width</th>\n",
       "      <th>attenuation</th>\n",
       "      <th>number</th>\n",
       "      <th>energy</th>\n",
       "      <th>resolution</th>\n",
       "    </tr>\n",
       "  </thead>\n",
       "  <tbody>\n",
       "    <tr>\n",
       "      <th>0</th>\n",
       "      <td>0</td>\n",
       "      <td>dark current</td>\n",
       "      <td>90</td>\n",
       "      <td>40</td>\n",
       "      <td>6</td>\n",
       "      <td>179.573608</td>\n",
       "      <td>0.000000</td>\n",
       "      <td>0.444444</td>\n",
       "    </tr>\n",
       "    <tr>\n",
       "      <th>1</th>\n",
       "      <td>662</td>\n",
       "      <td>NaI</td>\n",
       "      <td>2471</td>\n",
       "      <td>300</td>\n",
       "      <td>39</td>\n",
       "      <td>220228.106813</td>\n",
       "      <td>0.003006</td>\n",
       "      <td>0.121408</td>\n",
       "    </tr>\n",
       "    <tr>\n",
       "      <th>2</th>\n",
       "      <td>184</td>\n",
       "      <td>NaI</td>\n",
       "      <td>683</td>\n",
       "      <td>300</td>\n",
       "      <td>39</td>\n",
       "      <td>60872.439075</td>\n",
       "      <td>0.003023</td>\n",
       "      <td>0.439239</td>\n",
       "    </tr>\n",
       "    <tr>\n",
       "      <th>3</th>\n",
       "      <td>662</td>\n",
       "      <td>BGO</td>\n",
       "      <td>1001</td>\n",
       "      <td>300</td>\n",
       "      <td>24</td>\n",
       "      <td>15864.780857</td>\n",
       "      <td>0.041728</td>\n",
       "      <td>0.299700</td>\n",
       "    </tr>\n",
       "    <tr>\n",
       "      <th>4</th>\n",
       "      <td>662</td>\n",
       "      <td>plastic</td>\n",
       "      <td>1444</td>\n",
       "      <td>300</td>\n",
       "      <td>24</td>\n",
       "      <td>22885.857699</td>\n",
       "      <td>0.028926</td>\n",
       "      <td>0.207756</td>\n",
       "    </tr>\n",
       "    <tr>\n",
       "      <th>5</th>\n",
       "      <td>478</td>\n",
       "      <td>plastic</td>\n",
       "      <td>173</td>\n",
       "      <td>500</td>\n",
       "      <td>24</td>\n",
       "      <td>2741.865223</td>\n",
       "      <td>0.174334</td>\n",
       "      <td>2.890173</td>\n",
       "    </tr>\n",
       "  </tbody>\n",
       "</table>\n",
       "</div>"
      ],
      "text/plain": [
       "   amplitude  scintillator  channel  width  attenuation         number  \\\n",
       "0          0  dark current       90     40            6     179.573608   \n",
       "1        662           NaI     2471    300           39  220228.106813   \n",
       "2        184           NaI      683    300           39   60872.439075   \n",
       "3        662           BGO     1001    300           24   15864.780857   \n",
       "4        662       plastic     1444    300           24   22885.857699   \n",
       "5        478       plastic      173    500           24    2741.865223   \n",
       "\n",
       "     energy  resolution  \n",
       "0  0.000000    0.444444  \n",
       "1  0.003006    0.121408  \n",
       "2  0.003023    0.439239  \n",
       "3  0.041728    0.299700  \n",
       "4  0.028926    0.207756  \n",
       "5  0.174334    2.890173  "
      ]
     },
     "execution_count": 22,
     "metadata": {},
     "output_type": "execute_result"
    }
   ],
   "source": [
    "data_df"
   ]
  },
  {
   "cell_type": "markdown",
   "id": "77183411-72ff-4e2f-b855-cf5507c0ff53",
   "metadata": {},
   "source": [
    "## Вопросы\n",
    "\n",
    "см. методичку"
   ]
  },
  {
   "cell_type": "code",
   "execution_count": null,
   "id": "c05316df-06e8-4491-96fc-6b2210796446",
   "metadata": {},
   "outputs": [],
   "source": []
  }
 ],
 "metadata": {
  "kernelspec": {
   "display_name": "Python 3 (ipykernel)",
   "language": "python",
   "name": "python3"
  },
  "language_info": {
   "codemirror_mode": {
    "name": "ipython",
    "version": 3
   },
   "file_extension": ".py",
   "mimetype": "text/x-python",
   "name": "python",
   "nbconvert_exporter": "python",
   "pygments_lexer": "ipython3",
   "version": "3.10.4"
  },
  "widgets": {
   "application/vnd.jupyter.widget-state+json": {
    "state": {},
    "version_major": 2,
    "version_minor": 0
   }
  }
 },
 "nbformat": 4,
 "nbformat_minor": 5
}
