{
 "cells": [
  {
   "cell_type": "markdown",
   "id": "c16c5c5f-4964-41b0-b4a3-1ea3c922a622",
   "metadata": {},
   "source": [
    "# Лабораторная работа № 2\n",
    "\n",
    "## Гамма-спектрометр на основе сцинтилляционного счетчика\n",
    "\n",
    "### Кафедра физики ускорителей\n",
    "\n",
    "[Вероника Бояркина](v.boyarkina@g.nsu.ru), [Вячеслав Федоров](v.fedorov3@g.nsu.ru), [Анна Шуклина](a.shuklina@g.nsu.ru)"
   ]
  },
  {
   "cell_type": "markdown",
   "id": "422f8343-3eb3-423e-baca-e9903f2b2143",
   "metadata": {},
   "source": [
    "## Теория"
   ]
  },
  {
   "cell_type": "markdown",
   "id": "d1e41074-e3df-4061-9b15-ef6d4fb560b6",
   "metadata": {},
   "source": [
    "### Принцип действия сцинтилляционного счётчика\n",
    "- Заряженная частица, проходя через сцинтиллятор, помимо ионизации атомов и\n",
    "молекул, возбуждает их.\n",
    "- Возвращаясь в невозбуждённое (основное) состояние, атомы испускают фотоны\n",
    "с энергией видимого, ближнего ультрафиолетового или инфракрасного\n",
    "диапазонов (сцинтилляция или радиолюминесценция).\n",
    "- Фотоны, попадая на катод ФЭУ, выбивают электроны, которые усиливаются\n",
    "внутри ФЭУ, в результате чего на аноде возникает электрический импульс,\n",
    "который дополнительно усиливается и регистрируется электроникой.\n",
    "- Детектирование нейтральных частиц (нейтронов, γ-квантов) происходит по\n",
    "вторичным заряженным частицам (электроны, позитроны, ядра отдачи и осколки\n",
    "расщепленных ядер), образующимся при взаимодействии нейтронов и γ-квантов\n",
    "с атомами сцинтиллятора."
   ]
  },
  {
   "cell_type": "markdown",
   "id": "a0ba2cf9-8405-4682-8a8d-2220fff9e45b",
   "metadata": {},
   "source": [
    "### ФЭУ\n",
    "\n",
    "Фотоэлектронный умножитель — это электровакуумный прибор, в котором\n",
    "для преобразования светового потока в поток электронов в вакууме\n",
    "используют внешний фотоэффект, а число электронов умножается за счёт\n",
    "эффекта вторичной эмиссии "
   ]
  },
  {
   "cell_type": "markdown",
   "id": "f6e7790d-fbc6-4626-a218-19f40f3d4429",
   "metadata": {},
   "source": []
  },
  {
   "cell_type": "markdown",
   "id": "cecff5b6-2cd0-4663-a4ec-7986ca14e0da",
   "metadata": {},
   "source": []
  },
  {
   "cell_type": "markdown",
   "id": "9adb6b8b-6777-4abc-9262-97a58a5b5f7e",
   "metadata": {},
   "source": []
  },
  {
   "cell_type": "markdown",
   "id": "2d06b270-189d-46f4-9a6e-cd5e32f452b7",
   "metadata": {},
   "source": []
  },
  {
   "cell_type": "markdown",
   "id": "ca8409c1-3f27-405a-ab62-f59e402dfb61",
   "metadata": {},
   "source": []
  },
  {
   "cell_type": "code",
   "execution_count": null,
   "id": "9a1a238c-023c-46ab-a823-9aff17cfba92",
   "metadata": {},
   "outputs": [],
   "source": []
  },
  {
   "cell_type": "code",
   "execution_count": null,
   "id": "d66098d0-721d-4310-a686-df7a02431d7e",
   "metadata": {},
   "outputs": [],
   "source": []
  },
  {
   "cell_type": "code",
   "execution_count": null,
   "id": "162a58d6-43d5-4c68-b02a-9d4166eead7e",
   "metadata": {},
   "outputs": [],
   "source": []
  },
  {
   "cell_type": "code",
   "execution_count": null,
   "id": "92c589b6-2023-4c37-8f48-c7f50e099e92",
   "metadata": {},
   "outputs": [],
   "source": []
  },
  {
   "cell_type": "code",
   "execution_count": null,
   "id": "1c608bc0-7887-40ff-969e-905b76fcc611",
   "metadata": {},
   "outputs": [],
   "source": []
  },
  {
   "cell_type": "code",
   "execution_count": null,
   "id": "301ad29d-ee4d-439d-bc61-2f29cd49c0a4",
   "metadata": {},
   "outputs": [],
   "source": []
  }
 ],
 "metadata": {
  "kernelspec": {
   "display_name": "Python 3 (ipykernel)",
   "language": "python",
   "name": "python3"
  },
  "language_info": {
   "codemirror_mode": {
    "name": "ipython",
    "version": 3
   },
   "file_extension": ".py",
   "mimetype": "text/x-python",
   "name": "python",
   "nbconvert_exporter": "python",
   "pygments_lexer": "ipython3",
   "version": "3.11.0"
  },
  "widgets": {
   "application/vnd.jupyter.widget-state+json": {
    "state": {},
    "version_major": 2,
    "version_minor": 0
   }
  }
 },
 "nbformat": 4,
 "nbformat_minor": 5
}
