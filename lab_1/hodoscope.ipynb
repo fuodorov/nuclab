{
 "cells": [
  {
   "cell_type": "markdown",
   "id": "c507e158b9d7bfce",
   "metadata": {
    "collapsed": false,
    "jupyter": {
     "outputs_hidden": false
    }
   },
   "source": [
    "# Лабораторная работа № 1. \n",
    "## Годоскоп из стримерных трубок.\n",
    "\n",
    "### Кафедра физики ускорителей\n",
    "\n",
    "[Вероника Бояркина](v.boyarkina@g.nsu.ru), [Вячеслав Федоров](v.fedorov3@g.nsu.ru), [Анна Шуклина](a.shuklina@g.nsu.ru)"
   ]
  },
  {
   "cell_type": "markdown",
   "id": "5a8873bcfc1273ad",
   "metadata": {
    "collapsed": false,
    "jupyter": {
     "outputs_hidden": false
    }
   },
   "source": [
    "## Теория\n",
    "\n",
    "### Стримерный режим газового разряда\n",
    "Трубки, работающие в ограниченном стримерном режиме (стримерные трубки), — одна\n",
    "из разновидностей детекторов заряженных частиц, широко применяющаяся в настоящее\n",
    "время в экспериментах по физике высоких энергий.\n",
    "Трубка состоит из цилиндрического (или другой формы) катода, по оси которого натя-\n",
    "нута тонкая проволочка-анод. При малых напряжениях такой прибор работает в режиме\n",
    "ионизационной камеры. При увеличении напряжения происходит переход к пропорци-\n",
    "ональному режиму, затем к гейгеровскому разряду и искровому пробою. В конце 60-х\n",
    "годов было обнаружено, что при определенном подборе газовой смеси и диаметра анодной\n",
    "проволочки, гейгеровский механизм не работает, а развитие разряда происходит другим\n",
    "способом. Новый механизм газового разряда получил название стримерного. Стримерный\n",
    "режим отличается большими (порядка 1 мА) и короткими (порядка 100 нс) импульсами\n",
    "и обычно достигается в камерах и счетчиках с относительно толстыми (порядка 100 мкм)\n",
    "анодными проволочками при больших концентрациях органических добавок, хорошо по-\n",
    "глощающих фотоны.\n",
    "\n",
    "### Стримерные трубки как координатные детекторы\n",
    "Часто, кроме самого факта прохождения частицы, требуется еще измерить координату\n",
    "прохождения частицы через детектор. В настоящее время развито много методик для\n",
    "определения координаты в стримерных трубках. К наиболее известным можно отнести\n",
    "следующие:\n",
    "- определение координаты в режиме ДА-НЕТ (по номеру сработавшей трубки);\n",
    "- определение координаты вдоль проволочки по центру тяжести наведенного заряда\n",
    "на катодные полоски, расположенные перпендикулярно к проволочке;\n",
    "- определение координаты вдоль проволочки по делению заряда на разных концах\n",
    "трубки;\n",
    "- определение координаты вдоль проволочки по разности времен прихода сигнала на\n",
    "разные концы трубки;\n",
    "- определение координаты в перпендикулярном к проволочке направлении по времени\n",
    "дрейфа ионизации до проволочки;\n",
    "\n",
    "Большая амплитуда сигнала, хорошие временные характеристики стримерного сигнала\n",
    "позволяют упрощать регистрирующую электронику, снижать требования к чувствитель-\n",
    "ности, порогам, стабильности."
   ]
  },
  {
   "cell_type": "markdown",
   "id": "4a09398d78a8af81",
   "metadata": {
    "collapsed": false,
    "jupyter": {
     "outputs_hidden": false
    }
   },
   "source": [
    "## Описание работы\n",
    "\n",
    "### Измерение продольной координаты методом временной разности\n",
    "\n",
    "В лабораторной работе съем продольной координаты со стримерных трубок организован\n",
    "с помощью методики разности времен. Координата вдоль проволочки линейно зависит\n",
    "от измеренной разности времен. Коэффициент пропорциональности — скорость распро-\n",
    "странения сигнала по трубке, деленная пополам (15 см/нсек, или 6.7 псек/мм). В случае\n",
    "наполненного газом коаксиального волновода эта величина практически совпадает с по-\n",
    "ловиной скорости света в вакууме. Пространственное разрешение детектора определяется\n",
    "временным разрешением электроники.\n",
    "\n",
    "### Годоскоп\n",
    "\n",
    "В лабораторной работе используется годоскоп из четырех модулей стримерных трубок\n",
    "Длина трубок годоскопа — 1 метр. Каждый модуль состоит из двух слоёв трубок по 4 шту-\n",
    "ки в каждом. На торцах модуля установлены платы для разведения высокого напряжения\n",
    "и калибровки каналов. Далее, на одном из торцов установлены два канала электроники\n",
    "(четыре дискриминатора и два экспандера). На модуле имеется панель, на которой рас-\n",
    "положены сигнальный, высоковольтный и три калибровочных разъема, разъем питания\n",
    "электроники и две газовые оливки для подачи газа (все трубки соединены по газу после-\n",
    "довательно). Сверху торцы прикрыты кожухами.\n",
    "\n",
    "Модули продуты газовой смесью аргон:н-пентан (3:1) и после этого герметизированы.\n",
    "Рабочее напряжение 4000 В. Плато счетной характеристики 3600–4600 В. Характерные\n",
    "параметры стримерного сигнала для рабочего напряжения: средняя амплитуда на входе\n",
    "дискриминатора 200 мВ, длительность сигнала 200 нсек, фронт 7 нсек.\n",
    "\n",
    "Для системы сбора данных с годоскопа используется стандарт КАМАК. Сигналы с экспандеров поступают на преобразователь(ECL-NIM)-разветвитель (далее ПР). ПР формирует сигналы\n",
    "“старт” и “стоп” для ВЦП, а также по одному дополнительному сигналу на каждый канал.\n",
    "Сигнал “старт” поступает на цифровую линию задержки (ЛЗ, 500 нсек) и далее на вход\n",
    "“старт” ВЦП. Дополнительные сигналы с каналов 1, 2, 7, 8 (нижний и верхний модули)\n",
    "идут на схему совпадений (СС) и используются для формирования сигнала (на формиро-\n",
    "вателе импульсов — ФИ) для запуска ВЦП. Дополнительные сигналы с каналов 3, 4, 5, 6\n",
    "идут на счетчик импульсов (СЧ) для контроля загрузок. При наборе статистики на СС\n",
    "устанавливается маска первого выхода, соответствующая совпадению нижнего и верхне-\n",
    "го модулей. Второй выход СС маскируется на сигнал генератора. Сигнал с него подан на\n",
    "СЧ. Третий и четвертый выходы маскируются таким образом, чтобы они соответствовали\n",
    "каналам 1 и 7 годоскопа. Сигналы с них поданы на СЧ.\n",
    "\n",
    "Для калибровок используется генератор коротких импульсов ГЕКИ. Он запускается\n",
    "с помощью генератора логических импульсов (ГЛИ) и требует дополнительного питания\n",
    "от источника +300 В. ГЕКИ имеет встроенный аттенюатор для регулировки амплитуды\n",
    "выходного сигнала. Сигнал с ГЕКИ поступает на коммутатор высокой частоты (КВЧ)\n",
    "и при калибровке поочередно подается на все четыре модуля. При этом первый выход\n",
    "СС маскируется на генератор. В крейте также расположены: блок ЦДР - для вывода\n",
    "графической информации, индикатор питания крейта - используется для вывода питания\n",
    "электроники модулей стримерных трубок, высоковольтный источник (ВВИ). Напряжение\n",
    "с ВВИ подается на коробку-разветвитель и далее на четыре модуля.\n",
    "\n",
    "### Программное обеспечение\n",
    "Программа для работы с годоскопом называется NUCLAB. Она умеет:\n",
    "- инициализировать используемые КАМАК блоки,\n",
    "-  калибровать модули стримерных трубок:\n",
    "- задавать параметры гистограмм,\n",
    "- выводить гистограммы,\n",
    "- чистить гистограммы,\n",
    "- измерять загрузки,\n",
    "- набирать статистику. \n",
    "\n",
    "Информация о событии включает:\n",
    "- считанное с ВЦП время для каждого канала,\n",
    "- восстановленные X, Y , Z координаты,\n",
    "- отклонение измеренной координаты от восстановленного трека,\n",
    "- параметры прямой Z = k · Y + b,\n",
    "- NW — количество сработавших каналов,\n",
    "- NT — количество каналов с правдоподобно восстановившейся Z-координатой,\n",
    "- NP — количество каналов, взятых в восстановление трека."
   ]
  },
  {
   "cell_type": "markdown",
   "id": "dd546fbc8c02feb0",
   "metadata": {
    "collapsed": false,
    "jupyter": {
     "outputs_hidden": false
    }
   },
   "source": [
    "## Задания"
   ]
  },
  {
   "cell_type": "markdown",
   "id": "1488370129de4418",
   "metadata": {
    "collapsed": false,
    "jupyter": {
     "outputs_hidden": false
    }
   },
   "source": [
    "### Измерение эффективности срабатывания блоков\n",
    "\n",
    "Для фиксированного значения напряжения на трубках провести набор гистограмм. На-\n",
    "пряжение менять (источник в КАМАК крейте) от 3.5 кВ до 4.5 кВ через 200 В. Время\n",
    "набора в каждой точке порядка 2 минут. Перед началом набора в новой точке производить\n",
    "чистку гистограмм."
   ]
  },
  {
   "cell_type": "code",
   "execution_count": 1,
   "id": "b835c3f3d833c546",
   "metadata": {
    "ExecuteTime": {
     "end_time": "2024-02-13T03:33:51.263378Z",
     "start_time": "2024-02-13T03:33:50.071548800Z"
    },
    "collapsed": false,
    "jupyter": {
     "outputs_hidden": false
    }
   },
   "outputs": [
    {
     "name": "stderr",
     "output_type": "stream",
     "text": [
      "D:\\TMP\\ipykernel_21412\\2937650959.py:1: DeprecationWarning: \n",
      "Pyarrow will become a required dependency of pandas in the next major release of pandas (pandas 3.0),\n",
      "(to allow more performant data types, such as the Arrow string type, and better interoperability with other libraries)\n",
      "but was not found to be installed on your system.\n",
      "If this would cause problems for you,\n",
      "please provide us feedback at https://github.com/pandas-dev/pandas/issues/54466\n",
      "        \n",
      "  import pandas as pd\n"
     ]
    }
   ],
   "source": [
    "import pandas as pd\n",
    "import numpy as np"
   ]
  },
  {
   "cell_type": "code",
   "execution_count": 2,
   "id": "163dbdc472f1811c",
   "metadata": {
    "ExecuteTime": {
     "end_time": "2024-02-13T03:33:51.277377400Z",
     "start_time": "2024-02-13T03:33:51.266377800Z"
    },
    "collapsed": false,
    "jupyter": {
     "outputs_hidden": false
    }
   },
   "outputs": [
    {
     "data": {
      "text/html": [
       "<div>\n",
       "<style scoped>\n",
       "    .dataframe tbody tr th:only-of-type {\n",
       "        vertical-align: middle;\n",
       "    }\n",
       "\n",
       "    .dataframe tbody tr th {\n",
       "        vertical-align: top;\n",
       "    }\n",
       "\n",
       "    .dataframe thead th {\n",
       "        text-align: right;\n",
       "    }\n",
       "</style>\n",
       "<table border=\"1\" class=\"dataframe\">\n",
       "  <thead>\n",
       "    <tr style=\"text-align: right;\">\n",
       "      <th></th>\n",
       "      <th>epsilon_3</th>\n",
       "      <th>epsilon_4</th>\n",
       "      <th>epsilon_5</th>\n",
       "      <th>epsilon_6</th>\n",
       "    </tr>\n",
       "  </thead>\n",
       "  <tbody>\n",
       "    <tr>\n",
       "      <th>3400</th>\n",
       "      <td>0.5925</td>\n",
       "      <td>0.5963</td>\n",
       "      <td>0.7720</td>\n",
       "      <td>0.6673</td>\n",
       "    </tr>\n",
       "    <tr>\n",
       "      <th>3500</th>\n",
       "      <td>0.8012</td>\n",
       "      <td>0.8270</td>\n",
       "      <td>0.9165</td>\n",
       "      <td>0.8171</td>\n",
       "    </tr>\n",
       "    <tr>\n",
       "      <th>3600</th>\n",
       "      <td>0.8748</td>\n",
       "      <td>0.9026</td>\n",
       "      <td>0.9374</td>\n",
       "      <td>0.9235</td>\n",
       "    </tr>\n",
       "    <tr>\n",
       "      <th>3700</th>\n",
       "      <td>0.9070</td>\n",
       "      <td>0.9219</td>\n",
       "      <td>0.9462</td>\n",
       "      <td>0.9286</td>\n",
       "    </tr>\n",
       "    <tr>\n",
       "      <th>3800</th>\n",
       "      <td>0.8614</td>\n",
       "      <td>0.8961</td>\n",
       "      <td>0.9262</td>\n",
       "      <td>0.9217</td>\n",
       "    </tr>\n",
       "    <tr>\n",
       "      <th>3900</th>\n",
       "      <td>0.8677</td>\n",
       "      <td>0.9011</td>\n",
       "      <td>0.9234</td>\n",
       "      <td>0.9234</td>\n",
       "    </tr>\n",
       "    <tr>\n",
       "      <th>4000</th>\n",
       "      <td>0.8255</td>\n",
       "      <td>0.8832</td>\n",
       "      <td>0.9134</td>\n",
       "      <td>0.8878</td>\n",
       "    </tr>\n",
       "  </tbody>\n",
       "</table>\n",
       "</div>"
      ],
      "text/plain": [
       "      epsilon_3  epsilon_4  epsilon_5  epsilon_6\n",
       "3400     0.5925     0.5963     0.7720     0.6673\n",
       "3500     0.8012     0.8270     0.9165     0.8171\n",
       "3600     0.8748     0.9026     0.9374     0.9235\n",
       "3700     0.9070     0.9219     0.9462     0.9286\n",
       "3800     0.8614     0.8961     0.9262     0.9217\n",
       "3900     0.8677     0.9011     0.9234     0.9234\n",
       "4000     0.8255     0.8832     0.9134     0.8878"
      ]
     },
     "execution_count": 2,
     "metadata": {},
     "output_type": "execute_result"
    }
   ],
   "source": [
    "voltages = ['3400', '3500', '3600', '3700', '3800', '3900', '4000']\n",
    "columns = ['epsilon_3', 'epsilon_4', 'epsilon_5', 'epsilon_6']\n",
    "efficients_data_df = pd.DataFrame([[59.25, 59.63, 77.2, 66.73],\n",
    "                  [80.12, 82.70, 91.65, 81.71],\n",
    "                  [87.48, 90.26, 93.74, 92.35],\n",
    "                  [90.70, 92.19, 94.62, 92.86],\n",
    "                  [86.14, 89.61, 92.62, 92.17],\n",
    "                  [86.77, 90.11, 92.34, 92.34],\n",
    "                  [82.55, 88.32, 91.34, 88.78]], \n",
    "                  index=voltages, columns=columns)/100\n",
    "events_count_df = pd.DataFrame([535, 503, 575, 602, 664, 718, 762],\n",
    "                         index=voltages, columns=['events'])\n",
    "efficients_data_df"
   ]
  },
  {
   "cell_type": "code",
   "execution_count": 3,
   "id": "d17908e33bdd0952",
   "metadata": {
    "ExecuteTime": {
     "end_time": "2024-02-13T03:33:51.321377300Z",
     "start_time": "2024-02-13T03:33:51.281378Z"
    },
    "collapsed": false,
    "jupyter": {
     "outputs_hidden": false
    }
   },
   "outputs": [
    {
     "data": {
      "text/plain": [
       "3400    0.657025\n",
       "3500    0.840450\n",
       "3600    0.909575\n",
       "3700    0.925925\n",
       "3800    0.901350\n",
       "3900    0.903900\n",
       "4000    0.877475\n",
       "dtype: float64"
      ]
     },
     "execution_count": 3,
     "metadata": {},
     "output_type": "execute_result"
    }
   ],
   "source": [
    "efficients_avg_df = efficients_data_df.mean(axis=1)\n",
    "efficients_avg_df"
   ]
  },
  {
   "cell_type": "code",
   "execution_count": 4,
   "id": "7a6dc3f24c8e39a8",
   "metadata": {
    "ExecuteTime": {
     "end_time": "2024-02-13T03:33:51.791388100Z",
     "start_time": "2024-02-13T03:33:51.294379200Z"
    },
    "collapsed": false,
    "jupyter": {
     "outputs_hidden": false
    }
   },
   "outputs": [
    {
     "data": {
      "text/plain": [
       "<Axes: xlabel='Voltage (V)', ylabel='Efficiency (%)'>"
      ]
     },
     "execution_count": 4,
     "metadata": {},
     "output_type": "execute_result"
    },
    {
     "data": {
      "image/png": "[encoded data removed]",
      "text/plain": [
       "<Figure size 640x480 with 1 Axes>"
      ]
     },
     "metadata": {},
     "output_type": "display_data"
    }
   ],
   "source": [
    "efficients_avg_df.plot(xlabel='Voltage (V)', ylabel='Efficiency (%)')"
   ]
  },
  {
   "cell_type": "code",
   "execution_count": 5,
   "id": "1fd592dd4bab2b18",
   "metadata": {
    "ExecuteTime": {
     "end_time": "2024-02-13T03:33:51.804388200Z",
     "start_time": "2024-02-13T03:33:51.791388100Z"
    },
    "collapsed": false,
    "jupyter": {
     "outputs_hidden": false
    }
   },
   "outputs": [],
   "source": [
    "efficients_data_df['epsilon_avg'] = efficients_avg_df\n",
    "\n",
    "efficients_data_df['sigma_3'] = np.sqrt(efficients_data_df['epsilon_3']*(1-efficients_data_df['epsilon_3'])/events_count_df['events'])\n",
    "\n",
    "efficients_data_df['sigma_4'] = np.sqrt(efficients_data_df['epsilon_4']*(1-efficients_data_df['epsilon_4'])/events_count_df['events'])\n",
    "\n",
    "efficients_data_df['sigma_5'] = np.sqrt(efficients_data_df['epsilon_5']*(1-efficients_data_df['epsilon_4'])/events_count_df['events'])\n",
    "\n",
    "efficients_data_df['sigma_6'] = np.sqrt(efficients_data_df['epsilon_6']*(1-efficients_data_df['epsilon_6'])/events_count_df['events'])"
   ]
  },
  {
   "cell_type": "code",
   "execution_count": 6,
   "id": "75b4bec38b5de783",
   "metadata": {
    "ExecuteTime": {
     "end_time": "2024-02-13T03:33:51.834174200Z",
     "start_time": "2024-02-13T03:33:51.804388200Z"
    },
    "collapsed": false,
    "jupyter": {
     "outputs_hidden": false
    }
   },
   "outputs": [
    {
     "data": {
      "text/html": [
       "<div>\n",
       "<style scoped>\n",
       "    .dataframe tbody tr th:only-of-type {\n",
       "        vertical-align: middle;\n",
       "    }\n",
       "\n",
       "    .dataframe tbody tr th {\n",
       "        vertical-align: top;\n",
       "    }\n",
       "\n",
       "    .dataframe thead th {\n",
       "        text-align: right;\n",
       "    }\n",
       "</style>\n",
       "<table border=\"1\" class=\"dataframe\">\n",
       "  <thead>\n",
       "    <tr style=\"text-align: right;\">\n",
       "      <th></th>\n",
       "      <th>epsilon_3</th>\n",
       "      <th>epsilon_4</th>\n",
       "      <th>epsilon_5</th>\n",
       "      <th>epsilon_6</th>\n",
       "      <th>epsilon_avg</th>\n",
       "      <th>sigma_3</th>\n",
       "      <th>sigma_4</th>\n",
       "      <th>sigma_5</th>\n",
       "      <th>sigma_6</th>\n",
       "    </tr>\n",
       "  </thead>\n",
       "  <tbody>\n",
       "    <tr>\n",
       "      <th>3400</th>\n",
       "      <td>0.5925</td>\n",
       "      <td>0.5963</td>\n",
       "      <td>0.7720</td>\n",
       "      <td>0.6673</td>\n",
       "      <td>0.657025</td>\n",
       "      <td>0.021244</td>\n",
       "      <td>0.021212</td>\n",
       "      <td>0.024136</td>\n",
       "      <td>0.020371</td>\n",
       "    </tr>\n",
       "    <tr>\n",
       "      <th>3500</th>\n",
       "      <td>0.8012</td>\n",
       "      <td>0.8270</td>\n",
       "      <td>0.9165</td>\n",
       "      <td>0.8171</td>\n",
       "      <td>0.840450</td>\n",
       "      <td>0.017795</td>\n",
       "      <td>0.016865</td>\n",
       "      <td>0.017754</td>\n",
       "      <td>0.017237</td>\n",
       "    </tr>\n",
       "    <tr>\n",
       "      <th>3600</th>\n",
       "      <td>0.8748</td>\n",
       "      <td>0.9026</td>\n",
       "      <td>0.9374</td>\n",
       "      <td>0.9235</td>\n",
       "      <td>0.909575</td>\n",
       "      <td>0.013801</td>\n",
       "      <td>0.012365</td>\n",
       "      <td>0.012601</td>\n",
       "      <td>0.011084</td>\n",
       "    </tr>\n",
       "    <tr>\n",
       "      <th>3700</th>\n",
       "      <td>0.9070</td>\n",
       "      <td>0.9219</td>\n",
       "      <td>0.9462</td>\n",
       "      <td>0.9286</td>\n",
       "      <td>0.925925</td>\n",
       "      <td>0.011837</td>\n",
       "      <td>0.010936</td>\n",
       "      <td>0.011079</td>\n",
       "      <td>0.010495</td>\n",
       "    </tr>\n",
       "    <tr>\n",
       "      <th>3800</th>\n",
       "      <td>0.8614</td>\n",
       "      <td>0.8961</td>\n",
       "      <td>0.9262</td>\n",
       "      <td>0.9217</td>\n",
       "      <td>0.901350</td>\n",
       "      <td>0.013409</td>\n",
       "      <td>0.011841</td>\n",
       "      <td>0.012039</td>\n",
       "      <td>0.010425</td>\n",
       "    </tr>\n",
       "    <tr>\n",
       "      <th>3900</th>\n",
       "      <td>0.8677</td>\n",
       "      <td>0.9011</td>\n",
       "      <td>0.9234</td>\n",
       "      <td>0.9234</td>\n",
       "      <td>0.903900</td>\n",
       "      <td>0.012645</td>\n",
       "      <td>0.011141</td>\n",
       "      <td>0.011278</td>\n",
       "      <td>0.009925</td>\n",
       "    </tr>\n",
       "    <tr>\n",
       "      <th>4000</th>\n",
       "      <td>0.8255</td>\n",
       "      <td>0.8832</td>\n",
       "      <td>0.9134</td>\n",
       "      <td>0.8878</td>\n",
       "      <td>0.877475</td>\n",
       "      <td>0.013749</td>\n",
       "      <td>0.011635</td>\n",
       "      <td>0.011832</td>\n",
       "      <td>0.011433</td>\n",
       "    </tr>\n",
       "  </tbody>\n",
       "</table>\n",
       "</div>"
      ],
      "text/plain": [
       "      epsilon_3  epsilon_4  epsilon_5  epsilon_6  epsilon_avg   sigma_3  \\\n",
       "3400     0.5925     0.5963     0.7720     0.6673     0.657025  0.021244   \n",
       "3500     0.8012     0.8270     0.9165     0.8171     0.840450  0.017795   \n",
       "3600     0.8748     0.9026     0.9374     0.9235     0.909575  0.013801   \n",
       "3700     0.9070     0.9219     0.9462     0.9286     0.925925  0.011837   \n",
       "3800     0.8614     0.8961     0.9262     0.9217     0.901350  0.013409   \n",
       "3900     0.8677     0.9011     0.9234     0.9234     0.903900  0.012645   \n",
       "4000     0.8255     0.8832     0.9134     0.8878     0.877475  0.013749   \n",
       "\n",
       "       sigma_4   sigma_5   sigma_6  \n",
       "3400  0.021212  0.024136  0.020371  \n",
       "3500  0.016865  0.017754  0.017237  \n",
       "3600  0.012365  0.012601  0.011084  \n",
       "3700  0.010936  0.011079  0.010495  \n",
       "3800  0.011841  0.012039  0.010425  \n",
       "3900  0.011141  0.011278  0.009925  \n",
       "4000  0.011635  0.011832  0.011433  "
      ]
     },
     "execution_count": 6,
     "metadata": {},
     "output_type": "execute_result"
    }
   ],
   "source": [
    "efficients_data_df"
   ]
  },
  {
   "cell_type": "code",
   "execution_count": 7,
   "id": "7bad00f44ed1383",
   "metadata": {
    "ExecuteTime": {
     "end_time": "2024-02-13T03:33:51.835173200Z",
     "start_time": "2024-02-13T03:33:51.819751300Z"
    },
    "collapsed": false,
    "jupyter": {
     "outputs_hidden": false
    }
   },
   "outputs": [
    {
     "data": {
      "text/html": [
       "<div>\n",
       "<style scoped>\n",
       "    .dataframe tbody tr th:only-of-type {\n",
       "        vertical-align: middle;\n",
       "    }\n",
       "\n",
       "    .dataframe tbody tr th {\n",
       "        vertical-align: top;\n",
       "    }\n",
       "\n",
       "    .dataframe thead th {\n",
       "        text-align: right;\n",
       "    }\n",
       "</style>\n",
       "<table border=\"1\" class=\"dataframe\">\n",
       "  <thead>\n",
       "    <tr style=\"text-align: right;\">\n",
       "      <th></th>\n",
       "      <th>epsilon_3</th>\n",
       "      <th>epsilon_4</th>\n",
       "      <th>epsilon_5</th>\n",
       "      <th>epsilon_6</th>\n",
       "      <th>epsilon_avg</th>\n",
       "      <th>sigma_3</th>\n",
       "      <th>sigma_4</th>\n",
       "      <th>sigma_5</th>\n",
       "      <th>sigma_6</th>\n",
       "      <th>w_7</th>\n",
       "      <th>w_8</th>\n",
       "    </tr>\n",
       "  </thead>\n",
       "  <tbody>\n",
       "    <tr>\n",
       "      <th>3400</th>\n",
       "      <td>0.5925</td>\n",
       "      <td>0.5963</td>\n",
       "      <td>0.7720</td>\n",
       "      <td>0.6673</td>\n",
       "      <td>0.657025</td>\n",
       "      <td>0.021244</td>\n",
       "      <td>0.021212</td>\n",
       "      <td>0.024136</td>\n",
       "      <td>0.020371</td>\n",
       "      <td>0.389106</td>\n",
       "      <td>0.186349</td>\n",
       "    </tr>\n",
       "    <tr>\n",
       "      <th>3500</th>\n",
       "      <td>0.8012</td>\n",
       "      <td>0.8270</td>\n",
       "      <td>0.9165</td>\n",
       "      <td>0.8171</td>\n",
       "      <td>0.840450</td>\n",
       "      <td>0.017795</td>\n",
       "      <td>0.016865</td>\n",
       "      <td>0.017754</td>\n",
       "      <td>0.017237</td>\n",
       "      <td>0.378872</td>\n",
       "      <td>0.498939</td>\n",
       "    </tr>\n",
       "    <tr>\n",
       "      <th>3600</th>\n",
       "      <td>0.8748</td>\n",
       "      <td>0.9026</td>\n",
       "      <td>0.9374</td>\n",
       "      <td>0.9235</td>\n",
       "      <td>0.909575</td>\n",
       "      <td>0.013801</td>\n",
       "      <td>0.012365</td>\n",
       "      <td>0.012601</td>\n",
       "      <td>0.011084</td>\n",
       "      <td>0.272185</td>\n",
       "      <td>0.684469</td>\n",
       "    </tr>\n",
       "    <tr>\n",
       "      <th>3700</th>\n",
       "      <td>0.9070</td>\n",
       "      <td>0.9219</td>\n",
       "      <td>0.9462</td>\n",
       "      <td>0.9286</td>\n",
       "      <td>0.925925</td>\n",
       "      <td>0.011837</td>\n",
       "      <td>0.010936</td>\n",
       "      <td>0.011079</td>\n",
       "      <td>0.010495</td>\n",
       "      <td>0.235212</td>\n",
       "      <td>0.735027</td>\n",
       "    </tr>\n",
       "    <tr>\n",
       "      <th>3800</th>\n",
       "      <td>0.8614</td>\n",
       "      <td>0.8961</td>\n",
       "      <td>0.9262</td>\n",
       "      <td>0.9217</td>\n",
       "      <td>0.901350</td>\n",
       "      <td>0.013409</td>\n",
       "      <td>0.011841</td>\n",
       "      <td>0.012039</td>\n",
       "      <td>0.010425</td>\n",
       "      <td>0.288960</td>\n",
       "      <td>0.660045</td>\n",
       "    </tr>\n",
       "    <tr>\n",
       "      <th>3900</th>\n",
       "      <td>0.8677</td>\n",
       "      <td>0.9011</td>\n",
       "      <td>0.9234</td>\n",
       "      <td>0.9234</td>\n",
       "      <td>0.903900</td>\n",
       "      <td>0.012645</td>\n",
       "      <td>0.011141</td>\n",
       "      <td>0.011278</td>\n",
       "      <td>0.009925</td>\n",
       "      <td>0.283886</td>\n",
       "      <td>0.667547</td>\n",
       "    </tr>\n",
       "    <tr>\n",
       "      <th>4000</th>\n",
       "      <td>0.8255</td>\n",
       "      <td>0.8832</td>\n",
       "      <td>0.9134</td>\n",
       "      <td>0.8878</td>\n",
       "      <td>0.877475</td>\n",
       "      <td>0.013749</td>\n",
       "      <td>0.011635</td>\n",
       "      <td>0.011832</td>\n",
       "      <td>0.011433</td>\n",
       "      <td>0.331123</td>\n",
       "      <td>0.592842</td>\n",
       "    </tr>\n",
       "  </tbody>\n",
       "</table>\n",
       "</div>"
      ],
      "text/plain": [
       "      epsilon_3  epsilon_4  epsilon_5  epsilon_6  epsilon_avg   sigma_3  \\\n",
       "3400     0.5925     0.5963     0.7720     0.6673     0.657025  0.021244   \n",
       "3500     0.8012     0.8270     0.9165     0.8171     0.840450  0.017795   \n",
       "3600     0.8748     0.9026     0.9374     0.9235     0.909575  0.013801   \n",
       "3700     0.9070     0.9219     0.9462     0.9286     0.925925  0.011837   \n",
       "3800     0.8614     0.8961     0.9262     0.9217     0.901350  0.013409   \n",
       "3900     0.8677     0.9011     0.9234     0.9234     0.903900  0.012645   \n",
       "4000     0.8255     0.8832     0.9134     0.8878     0.877475  0.013749   \n",
       "\n",
       "       sigma_4   sigma_5   sigma_6       w_7       w_8  \n",
       "3400  0.021212  0.024136  0.020371  0.389106  0.186349  \n",
       "3500  0.016865  0.017754  0.017237  0.378872  0.498939  \n",
       "3600  0.012365  0.012601  0.011084  0.272185  0.684469  \n",
       "3700  0.010936  0.011079  0.010495  0.235212  0.735027  \n",
       "3800  0.011841  0.012039  0.010425  0.288960  0.660045  \n",
       "3900  0.011141  0.011278  0.009925  0.283886  0.667547  \n",
       "4000  0.011635  0.011832  0.011433  0.331123  0.592842  "
      ]
     },
     "execution_count": 7,
     "metadata": {},
     "output_type": "execute_result"
    }
   ],
   "source": [
    "efficients_data_df['w_7'] = 4*efficients_data_df['epsilon_avg']**3*(1-efficients_data_df['epsilon_avg'])\n",
    "efficients_data_df['w_8'] = efficients_data_df['epsilon_avg']**4\n",
    "\n",
    "efficients_data_df"
   ]
  },
  {
   "cell_type": "markdown",
   "id": "32e524de45aa5dac",
   "metadata": {
    "collapsed": false,
    "jupyter": {
     "outputs_hidden": false
    }
   },
   "source": [
    "### Измерение разрешения по Z на космике\n",
    "\n",
    "Выставить напряжение на камере, соответствующее середине плато эффективности. Про-\n",
    "вести набор событий в течение 0.5–1 часа. Число слоев, по которым строится прямая,\n",
    "задать равным 8 Определить пространственное разрешение по среднему (AVERAGE) ги-\n",
    "стограммы CHI2:\n"
   ]
  },
  {
   "cell_type": "code",
   "execution_count": 10,
   "id": "36aacd2b51fb22f4",
   "metadata": {
    "ExecuteTime": {
     "end_time": "2024-02-13T04:51:14.244263300Z",
     "start_time": "2024-02-13T04:51:14.224265300Z"
    },
    "collapsed": false,
    "jupyter": {
     "outputs_hidden": false
    }
   },
   "outputs": [
    {
     "data": {
      "text/plain": [
       "1.8234554719027747"
      ]
     },
     "execution_count": 10,
     "metadata": {},
     "output_type": "execute_result"
    }
   ],
   "source": [
    "AVERAGE = 45898.16\n",
    "n = 13806\n",
    "sigma_z = (AVERAGE/(n-2))**0.5\n",
    "sigma_z"
   ]
  },
  {
   "cell_type": "markdown",
   "id": "63af3d2077377188",
   "metadata": {
    "collapsed": false,
    "jupyter": {
     "outputs_hidden": false
    }
   },
   "source": [
    "## Вопросы для контроля"
   ]
  },
  {
   "cell_type": "markdown",
   "id": "e6d36a798a3cd151",
   "metadata": {
    "collapsed": false,
    "jupyter": {
     "outputs_hidden": false
    }
   },
   "source": [
    "### Какие существуют режимы работы газового цилиндрического счётчика?\n",
    "Между катодом и анодом создается разность потенциалов, величина которой вы-\n",
    "бирается в зависимости от режима работы счетчика: ионизационная камера, пропорцио-\n",
    "нальный, стримерный, Гейгера–Мюллера, искровой.\n",
    "На рис. 4.1 приведена зависимость тока с анодной проволочки от приложенного напря-\n",
    "жения при облучении счетчика α-частицами и электронами. В области I электроны и ионы\n",
    "первичной ионизации успевают частично рекомбинировать за время дрейфа в зазоре меж-\n",
    "ду катодом и анодом. При увеличении разности потенциалов вероятность рекомбинации\n",
    "уменьшается, что приводит к росту тока. Область I называют областью рекомбинации.\n",
    "В области II процессами рекомбинации можно пренебречь и вся первичная ионизация\n",
    "доходит до электродов, и ток с анодной проволочки не меняется. В этом диапазоне на-\n",
    "пряжений цилиндрический счетчик работает в режиме ионизационной камеры. В области\n",
    "IIIa начинается процесс газового усиления [1]. В результате этого ток с анодной прово-\n",
    "лочки начинает экспоненциально возрастать в зависимости от напряжения на счетчике,\n",
    "при этом сигнал с анодной проволочки пропорционален величине первичной ионизации.\n",
    "В области ограниченной пропорциональности IIIb пропорциональность нарушается из-за\n",
    "пространственного заряда вблизи анодной проволочки. Далее, в зависимости от соста-\n",
    "ва газа, используемого в счетчике, возможны два режима работы. В первом случае из\n",
    "области ограниченной пропорциональности счетчик плавно переходит в режим Гейгера-\n",
    "Мюллера (IV), при этом сигнал с анодной проволочки не зависит от величины первичной\n",
    "ионизации. Указанием на начало области Гейгера-Мюллера можно считать то обстоятель-\n",
    "ство, что величина импульса для частиц с разной ионизирующей способностью, таких как\n",
    "α- и β-частицы, становится одинаковой. Во втором случае при увеличении напряжения\n",
    "наблюдается скачкообразное увеличение амплитуды сигнала с анодной проволочки и его\n",
    "дальнейший экспоненциальный рост. При этом зависимость амплитуды сигнала с анодной\n",
    "проволочки от величины первичной ионизации и типа частицы исчезает. Этот режим на-\n",
    "зывается стримерным — область V. При дальнейшем увеличении напряжения в счетчике\n",
    "загорается разряд или происходит искровой пробой — область VI.\n",
    "\n",
    "![title](data/img.png)"
   ]
  },
  {
   "cell_type": "markdown",
   "id": "c73ac086f2ba5ef2",
   "metadata": {
    "collapsed": false,
    "jupyter": {
     "outputs_hidden": false
    }
   },
   "source": [
    "### Какой механизм самогасящегося стриммерного разряда и в чем его отличие от гейгеровского?\n",
    "\n",
    "Далее, в зависимости от соста-\n",
    "ва газа, используемого в счетчике, возможны два режима работы. В первом случае из\n",
    "области ограниченной пропорциональности счетчик плавно переходит в режим Гейгера-\n",
    "Мюллера (IV), при этом сигнал с анодной проволочки не зависит от величины первичной\n",
    "ионизации. Указанием на начало области Гейгера-Мюллера можно считать то обстоятель-\n",
    "ство, что величина импульса для частиц с разной ионизирующей способностью, таких как\n",
    "α- и β-частицы, становится одинаковой. Во втором случае при увеличении напряжения\n",
    "наблюдается скачкообразное увеличение амплитуды сигнала с анодной проволочки и его\n",
    "дальнейший экспоненциальный рост. При этом зависимость амплитуды сигнала с анодной\n",
    "проволочки от величины первичной ионизации и типа частицы исчезает. Этот режим на-\n",
    "зывается стримерным — область V. При дальнейшем увеличении напряжения в счетчике\n",
    "загорается разряд или происходит искровой пробой — область VI."
   ]
  },
  {
   "cell_type": "markdown",
   "id": "19e31d29a54429b9",
   "metadata": {
    "collapsed": false,
    "jupyter": {
     "outputs_hidden": false
    }
   },
   "source": [
    "### Какие особенности работы газового цилиндрического счётчика в ограниченном стримерном режиме.\n",
    "\n",
    "Во втором случае при увеличении напряжения\n",
    "наблюдается скачкообразное увеличение амплитуды сигнала с анодной проволочки и его\n",
    "дальнейший экспоненциальный рост. При этом зависимость амплитуды сигнала с анодной\n",
    "проволочки от величины первичной ионизации и типа частицы исчезает. Этот режим на-\n",
    "зывается стримерным — область V. При дальнейшем увеличении напряжения в счетчике\n",
    "загорается разряд или происходит искровой пробой — область VI."
   ]
  },
  {
   "cell_type": "markdown",
   "id": "639ec184415735a6",
   "metadata": {
    "collapsed": false,
    "jupyter": {
     "outputs_hidden": false
    }
   },
   "source": [
    "### Какие способы измерения продольной координаты в газовом цилиндрическом счётчике вы знаете?\n",
    "\n",
    "Часто, кроме самого факта прохождения частицы, требуется еще измерить координату\n",
    "прохождения частицы через детектор. В настоящее время развито много методик для\n",
    "определения координаты в стримерных трубках. К наиболее известным можно отнести\n",
    "следующие:\n",
    "- определение координаты в режиме ДА-НЕТ (по номеру сработавшей трубки);\n",
    "- определение координаты вдоль проволочки по центру тяжести наведенного заряда\n",
    "на катодные полоски, расположенные перпендикулярно к проволочке;\n",
    "- определение координаты вдоль проволочки по делению заряда на разных концах\n",
    "трубки;\n",
    "- определение координаты вдоль проволочки по разности времен прихода сигнала на\n",
    "разные концы трубки;\n",
    "- определение координаты в перпендикулярном к проволочке направлении по времени\n",
    "дрейфа ионизации до проволочки;\n"
   ]
  },
  {
   "cell_type": "markdown",
   "id": "5288b33f3c17c954",
   "metadata": {
    "collapsed": false,
    "jupyter": {
     "outputs_hidden": false
    }
   },
   "source": [
    "### Объяснить происхождение соотношений (1.1,1.2).\n",
    "\n",
    "Из теории вероятностей."
   ]
  },
  {
   "cell_type": "markdown",
   "id": "528c3ac72631995c",
   "metadata": {
    "collapsed": false,
    "jupyter": {
     "outputs_hidden": false
    }
   },
   "source": [
    "### Почему в знаменателе подкоренного выражения в (1.3) стоит n−2, а не n?\n",
    "\n",
    "Из мат.статистики."
   ]
  },
  {
   "cell_type": "code",
   "execution_count": 8,
   "id": "d461ed95dae68091",
   "metadata": {
    "ExecuteTime": {
     "end_time": "2024-02-13T03:33:51.935419200Z",
     "start_time": "2024-02-13T03:33:51.848170900Z"
    },
    "collapsed": false,
    "jupyter": {
     "outputs_hidden": false
    }
   },
   "outputs": [],
   "source": []
  }
 ],
 "metadata": {
  "kernelspec": {
   "display_name": "Python 3 (ipykernel)",
   "language": "python",
   "name": "python3"
  },
  "language_info": {
   "codemirror_mode": {
    "name": "ipython",
    "version": 3
   },
   "file_extension": ".py",
   "mimetype": "text/x-python",
   "name": "python",
   "nbconvert_exporter": "python",
   "pygments_lexer": "ipython3",
   "version": "3.10.4"
  }
 },
 "nbformat": 4,
 "nbformat_minor": 5
}
