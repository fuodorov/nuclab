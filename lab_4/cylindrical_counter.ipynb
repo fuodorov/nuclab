{
 "cells": [
  {
   "cell_type": "markdown",
   "id": "c507e158b9d7bfce",
   "metadata": {
    "collapsed": false,
    "jupyter": {
     "outputs_hidden": false
    }
   },
   "source": [
    "# Лабораторная работа № 4. \n",
    "\n",
    "## Газовый цилиндрический счётчик.\n",
    "\n",
    "### Кафедра физики ускорителей\n",
    "\n",
    "[Вероника Бояркина](v.boyarkina@g.nsu.ru), [Вячеслав Федоров](v.fedorov3@g.nsu.ru), [Анна Шуклина](a.shuklina@g.nsu.ru)"
   ]
  },
  {
   "cell_type": "markdown",
   "id": "5a8873bcfc1273ad",
   "metadata": {
    "collapsed": false,
    "jupyter": {
     "outputs_hidden": false
    }
   },
   "source": [
    "## Теория\n",
    "\n",
    "В данной работе исследуется газовый цилиндрический счетчик, состоящий из металличе-\n",
    "ского цилиндрического катода диаметром 20 мм и анодной проволочки диаметром 0.05 мм,\n",
    "расположенной на оси цилиндра. Пространство между катодом и анодом заполнено газо-\n",
    "вой смесью при атмосферном давлении, состоящей обычно из благородного газа (аргон,\n",
    "неон, криптон) и многоатомной органической добавки (изобутан, метан, эфир, н-пентан\n",
    "и т.д.). Между катодом и анодом создается разность потенциалов, величина которой вы-\n",
    "бирается в зависимости от режима работы счетчика: ионизационная камера, пропорцио-\n",
    "нальный, стримерный, Гейгера–Мюллера, искровой.\n",
    "\n",
    "Между катодом и анодом создается разность потенциалов, величина которой вы-\n",
    "бирается в зависимости от режима работы счетчика: ионизационная камера, пропорцио-\n",
    "нальный, стримерный, Гейгера–Мюллера, искровой.\n",
    "На рис. 4.1 приведена зависимость тока с анодной проволочки от приложенного напря-\n",
    "жения при облучении счетчика α-частицами и электронами. В области I электроны и ионы\n",
    "первичной ионизации успевают частично рекомбинировать за время дрейфа в зазоре меж-\n",
    "ду катодом и анодом. При увеличении разности потенциалов вероятность рекомбинации\n",
    "уменьшается, что приводит к росту тока. Область I называют областью рекомбинации.\n",
    "В области II процессами рекомбинации можно пренебречь и вся первичная ионизация\n",
    "доходит до электродов, и ток с анодной проволочки не меняется. В этом диапазоне на-\n",
    "пряжений цилиндрический счетчик работает в режиме ионизационной камеры. В области\n",
    "IIIa начинается процесс газового усиления [1]. В результате этого ток с анодной прово-\n",
    "лочки начинает экспоненциально возрастать в зависимости от напряжения на счетчике,\n",
    "при этом сигнал с анодной проволочки пропорционален величине первичной ионизации.\n",
    "В области ограниченной пропорциональности IIIb пропорциональность нарушается из-за\n",
    "пространственного заряда вблизи анодной проволочки. Далее, в зависимости от соста-\n",
    "ва газа, используемого в счетчике, возможны два режима работы. В первом случае из\n",
    "области ограниченной пропорциональности счетчик плавно переходит в режим Гейгера-\n",
    "Мюллера (IV), при этом сигнал с анодной проволочки не зависит от величины первичной\n",
    "ионизации. Указанием на начало области Гейгера-Мюллера можно считать то обстоятель-\n",
    "ство, что величина импульса для частиц с разной ионизирующей способностью, таких как\n",
    "α- и β-частицы, становится одинаковой. Во втором случае при увеличении напряжения\n",
    "наблюдается скачкообразное увеличение амплитуды сигнала с анодной проволочки и его\n",
    "дальнейший экспоненциальный рост. При этом зависимость амплитуды сигнала с анодной\n",
    "проволочки от величины первичной ионизации и типа частицы исчезает. Этот режим на-\n",
    "зывается стримерным — область V. При дальнейшем увеличении напряжения в счетчике\n",
    "загорается разряд или происходит искровой пробой — область VI.\n",
    "\n",
    "![title](data/img.png)"
   ]
  },
  {
   "cell_type": "markdown",
   "id": "4a09398d78a8af81",
   "metadata": {
    "collapsed": false,
    "jupyter": {
     "outputs_hidden": false
    }
   },
   "source": [
    "## Описание работы\n",
    "\n",
    "### Используемое оборудование\n",
    "\n",
    "В работе используется два газовых цилиндрических счетчика, состоящих из ме-\n",
    "таллического катода диаметром 20 мм и анодной проволочки из позолоченного вольфрама\n",
    "диаметром 50 мкм. Счётчики работают на газовой смеси аргон-изобутан в соотношении\n",
    "70:30 при атмосферном давлении. Они расположены в металлическом коробе. Трубка 1\n",
    "облучается изотопом 55Fe (гамма-кванты E = 6 кэВ), а трубка 2 изотопом 90γ\n",
    "ны Emax = 2.3 МэВ). Высокое напряжение подается на проволочный анод счетчика, а с\n",
    "другого конца проволочки через ёмкостную развязку снимается сигнал, который поступа-\n",
    "ет на вход зарядочувствительного предварительного усилителя (ПУ), расположенного в\n",
    "этом же коробе. Для того, чтобы избежать ограничения усиления ПУ, сигнал на его входе\n",
    "может ослабляться резистивным делителем. Делитель включается тумблером на лицевой\n",
    "панели короба. С выхода ПУ парафазный сигнал по витой паре в экране поступает в\n",
    "блок ТА, где он дополнительно усиливается и подается на дискриминатор с фиксирован-\n",
    "ным порогом. С выхода A можно наблюдать усиленный сигнал с анодной проволочки,\n",
    "а с выхода T — логический сигнал после дискриминатора. Блок TA также служит для\n",
    "подачи питающего напряжения на ПУ. Аналоговый сигнал с блока TA через управляемый\n",
    "аттенюатор подается на вход зарядово-цифрового преобразователя (ЗЦП), а логический\n",
    "сигнал — на формирователь логических импульсов, который выдает управляющий сигнал\n",
    "“ворота” для ЗЦП.\n",
    "\n",
    "В работе используются модули электроники в стандарте КАМАК производства ИЯФ\n",
    "СО РАН. Управление электроникой и считывание информации происходит с помощью\n",
    "компьютера.\n",
    "С помощью аттенюатора можно управлять амплитудой сигнала после предусилителя,\n",
    "ослабляя его на заданное количество децибел с шагом 3 дБ. Максимальное ослабление\n",
    "одного аттенюатора составляет 45 дБ. Это нужно для согласования амплитуды сигна-\n",
    "ла с динамическим диапазоном ЗЦП. \n",
    "\n",
    "Блок ЗИФ имеет два канала, из которых используется один в качестве формирователя\n",
    "логических импульсов. Блок служит для формирования управляющего сигнала ЗЦП, \n",
    "в течение которого ЗЦП интегрирует входной сигнал. При запуске управляющей\n",
    "программы длительность управляющего импульса устанавливаеся в подходящее значение.\n",
    "В работе также имеется осциллограф, с помощью которого можно наблюдать сигнал\n",
    "со счётчика.\n",
    "\n",
    "### Программное обеспечение\n",
    "Для управления электроникой используется специальная программа, написанная на ос-\n",
    "нове среды для анализа физических данных ROOT [3]. Она позволяет управлять всеми\n",
    "блоками КАМАК с помощью наглядного графического пользовательского интерфейса\n",
    "(ГПИ), набирать гистограмму амплитудного распределения с ЗЦП и анализировать ее,\n",
    "используя стандартные средства ГПИ ROOT.\n",
    "\n",
    "В окне прямоугольника-\n",
    "ми изображены интерфейсы управления блоками КАМАК. Относительный размер и рас-\n",
    "положение прямоугольников соответствует позиции и ширине соответствующих блоков\n",
    "электроники в крейте КАМАК. Кроме того, многоканальные блоки имеют интерфейсы\n",
    "управления каналами, которые графически расположены в соответствии с физическим\n",
    "расположением каналов на лицевой панели блоков. Интерактивные элементы ГПИ стан-\n",
    "дартны и включают: кнопки, радиокнопки, переключатели и текстовые поля. Управление\n",
    "программой требует базовых навыков работы с графическими интерфейсами."
   ]
  },
  {
   "cell_type": "markdown",
   "id": "dd546fbc8c02feb0",
   "metadata": {
    "collapsed": false,
    "jupyter": {
     "outputs_hidden": false
    }
   },
   "source": [
    "## Задания"
   ]
  },
  {
   "cell_type": "markdown",
   "id": "276bcb6d-1c49-4e68-a3e4-43feac01a1a3",
   "metadata": {},
   "source": [
    "1. Снять амплитудные спектры с анодной проволочки с изотопом 55Fe на трубке 1\n",
    "начиная с напряжения на счетчике 1.9 до 2.7 кВ с шагом 100 В. Измерения прово-\n",
    "дить согласно схеме на Рис. 4.3. Подбирая коэффициент ослабления на аттенюаторе,\n",
    "добиться набора спектра на ЗЦП, так чтобы максимальный пик спектра находил-\n",
    "ся вблизи середины амплитудной шкалы. При больших амплитудах в счётчике 1\n",
    "необходимо использовать резистивный делитель. Необходимость его использования\n",
    "определите по осциллографу. При достаточно большом напряжении прокалибруйте\n",
    "ослабление делителя по амплитудным спектрам. Пронаблюдайте изменение спектров\n",
    "в пропорциональном, в переходном и в стримерном режимах работы трубки."
   ]
  },
  {
   "cell_type": "markdown",
   "id": "3bc9f167-2b9c-420f-a630-2ce3f68f11d6",
   "metadata": {},
   "source": [
    "1900 V\n",
    "\n",
    "![title](data/1900.gif)"
   ]
  },
  {
   "cell_type": "markdown",
   "id": "ccedee57-4b4e-4398-a865-69b2caba7a54",
   "metadata": {},
   "source": [
    "2100 V\n",
    "\n",
    "![title](data/2100.gif)"
   ]
  },
  {
   "cell_type": "markdown",
   "id": "d3c03bd6-78bf-4016-8dc8-cb8772597322",
   "metadata": {},
   "source": [
    "2200 V\n",
    "\n",
    "![title](data/2200.gif)"
   ]
  },
  {
   "cell_type": "markdown",
   "id": "120eb039-8795-47a7-8b6d-cc7b4d909468",
   "metadata": {},
   "source": [
    "2300 V\n",
    "\n",
    "![title](data/2300.gif)"
   ]
  },
  {
   "cell_type": "markdown",
   "id": "7b85b6f4-bcc0-45e6-9a7a-caaaf6b367b7",
   "metadata": {},
   "source": [
    "2300 V (включили делитель)\n",
    "\n",
    "![title](data/2300_ON.gif)"
   ]
  },
  {
   "cell_type": "markdown",
   "id": "71750c1d-8358-4e47-b575-b95b5c793285",
   "metadata": {},
   "source": [
    "2400 V (включили делитель)\n",
    "\n",
    "![title](data/2400_ON.gif)"
   ]
  },
  {
   "cell_type": "markdown",
   "id": "7b49cb42-5ea7-40b2-a0ec-261feebcd0a2",
   "metadata": {},
   "source": [
    "2500 V (включили делитель)\n",
    "\n",
    "![title](data/2500_ON.gif)"
   ]
  },
  {
   "cell_type": "markdown",
   "id": "39aa8bff-6968-4d4d-94a1-2e01c7e69053",
   "metadata": {},
   "source": [
    "2600 V (включили делитель)\n",
    "\n",
    "![title](data/2600_ON.gif)"
   ]
  },
  {
   "cell_type": "markdown",
   "id": "ee42ef94-f6f1-4f23-a27f-4055566f11a7",
   "metadata": {},
   "source": [
    "2700 V (включили делитель)\n",
    "\n",
    "![title](data/2700_ON.gif)"
   ]
  },
  {
   "cell_type": "markdown",
   "id": "e6bdaf4e-f07e-42d0-8159-31a43b1dc3fa",
   "metadata": {},
   "source": [
    "Для каждого значения напряжения:\r",
    "-  Определить амплитуду основного пика\n",
    "- Определить полную ширину пика на его полувысоте.."
   ]
  },
  {
   "cell_type": "code",
   "execution_count": 1,
   "id": "e10785e6-bbdf-4b9d-b20d-c859c22af614",
   "metadata": {},
   "outputs": [],
   "source": [
    "import pandas as pd"
   ]
  },
  {
   "cell_type": "code",
   "execution_count": 43,
   "id": "f65daaf6-6689-4540-a047-7948126879b3",
   "metadata": {},
   "outputs": [],
   "source": [
    "columns = ['voltage', 'first_mean', 'second_mean', 'first_width', 'second_width',  'attenuation', 'divider']\n",
    "data_df = pd.DataFrame([[1900, 395, 395, 123, 123, 3, False],\n",
    "                  [2100, 300, 950, 200, 200, 3, False],\n",
    "                  [2300, 230, 1200,  100, 400,  3, False],\n",
    "                  [2300, 300, 1700, 100, 600, 3, True],\n",
    "                  [2400, 400, 2500, 500, 900, 3, True],\n",
    "                  [2500, 300, 1400, 100, 400, 3, True],\n",
    "                  [2600, 200, 1500, 100, 800, 3, True], \n",
    "                  [2700, 200, 1000, 100, 800, 3, True]], \n",
    "                  columns=columns)"
   ]
  },
  {
   "cell_type": "markdown",
   "id": "c170f663-8f48-47cb-aab9-c9df009edc76",
   "metadata": {},
   "source": [
    "2. Для каждого установки ослабления аттенюатора откалибровать положение пьеде-\r\n",
    "стала ЗЦП, отсоединив выход A блока TA от входа аттенюатора (радиоизотоп дол-\r\n",
    "жен находится на трубке). Центр тяжести спектра даст значение, соответствующую\r\n",
    "пьедесталу. Положение пьедестала должно учитываться при обработке всех ампли-\r\n",
    "тудных спектров."
   ]
  },
  {
   "cell_type": "markdown",
   "id": "8b4940c9-fc73-4c2f-b9df-e83599329c45",
   "metadata": {},
   "source": [
    "![title](data/CALIBR.gif)"
   ]
  },
  {
   "cell_type": "code",
   "execution_count": 44,
   "id": "02fed0ea-d5b1-4a56-9459-1787aad9f91c",
   "metadata": {},
   "outputs": [],
   "source": [
    "pedestal = 140\n",
    "\n",
    "data_df['first_mean'] = data_df['first_mean'] - pedestal\n",
    "data_df['second_mean'] = data_df['second_mean'] - pedestal"
   ]
  },
  {
   "cell_type": "markdown",
   "id": "3c0d7ef8-a341-4553-bc01-221bc87f1a6d",
   "metadata": {},
   "source": [
    "3. Поменять схему на Рис. 4.3, настроив запуск от трубки 2 Снять амплитудные спек-\r\n",
    "тры для изотопа 90Sr при небольшом напряжении (∼ 2000 В) и при максимальном\r\n",
    "напряжении (∼ 2700 В). Распечатать полученные спектры."
   ]
  },
  {
   "cell_type": "markdown",
   "id": "7fafc05c-2710-45df-8ef4-9098b89c7cc1",
   "metadata": {},
   "source": [
    "2000 V (включили делитель)\n",
    "\n",
    "![title](data/2000_SR_ON_9DB.gif)"
   ]
  },
  {
   "cell_type": "markdown",
   "id": "9ee46539-7efa-4665-9b68-c647772e3b24",
   "metadata": {},
   "source": [
    "2700 V (включили делитель)\n",
    "\n",
    "![title](data/2700_SR_ON_21DB.gif)"
   ]
  },
  {
   "cell_type": "markdown",
   "id": "b5b6e710-f804-4292-b2c6-a198ab8bcb08",
   "metadata": {},
   "source": [
    "4. Зарисовать форму импульса с анодной проволочки на осциллографе от изотопов 55Fe\r\n",
    "(γ) и 90Sr (β) в пропорциональном и стримерном режимах. Пронаблюдать изменение\r\n",
    "формы импульса при переходе в стримерный режи\n",
    "\n",
    "Cм. видео у Верониким."
   ]
  },
  {
   "cell_type": "markdown",
   "id": "3ec415ae-fd7a-4fa1-991c-eff708426f60",
   "metadata": {},
   "source": [
    "## Обработка и представление результатов"
   ]
  },
  {
   "cell_type": "markdown",
   "id": "fa58a36b-ac07-4c42-bdce-de43875b8e0e",
   "metadata": {},
   "source": [
    "1. Для отчета выборочно распечатать амплитудные спектры иллюстрирующие пропор-\r\n",
    "циональный и стримерный режимы, а также переход из одного в другой\n",
    "\n",
    "См. выше."
   ]
  },
  {
   "cell_type": "markdown",
   "id": "7d72ea98-b556-46d7-8409-2162a76b308d",
   "metadata": {},
   "source": [
    "2. Используя пик, возникший от поглощения 6-кэвного гамма кванта изотопа 55Fe, по-\r\n",
    "строить в логарифмическом масштабе в произвольных единицах зависимость коэф-\r\n",
    "фициента газового усиления от напряжения. Точки пропорционального и стример-\r\n",
    "ного режимов отложить на одном графике."
   ]
  },
  {
   "cell_type": "code",
   "execution_count": 46,
   "id": "bcbdedcf-920b-40c5-befa-d8e1ad07b28f",
   "metadata": {},
   "outputs": [],
   "source": [
    "data_df['first_amplitude'] = data_df['first_mean'] / 10**(-data_df['attenuation']/20)\n",
    "data_df['second_amplitude'] = data_df['second_mean'] / 10**(-data_df['attenuation']/20)"
   ]
  },
  {
   "cell_type": "code",
   "execution_count": 49,
   "id": "2a4a03d8-8c90-4a3f-8253-abc21a182338",
   "metadata": {},
   "outputs": [
    {
     "data": {
      "text/plain": [
       "<Axes: title={'center': 'Amplitude'}, xlabel='voltage'>"
      ]
     },
     "execution_count": 49,
     "metadata": {},
     "output_type": "execute_result"
    },
    {
     "data": {
      "image/png": "[encoded data removed]",
      "text/plain": [
       "<Figure size 640x480 with 1 Axes>"
      ]
     },
     "metadata": {},
     "output_type": "display_data"
    }
   ],
   "source": [
    "import matplotlib.pyplot as plt\n",
    "\n",
    "data_df.plot(x='voltage', y=['first_amplitude', 'second_amplitude'], logy=True, title='Amplitude', grid=True, kind='line', marker='o')"
   ]
  },
  {
   "cell_type": "markdown",
   "id": "607c955b-7cfb-428f-a321-022f19b50ca2",
   "metadata": {},
   "source": [
    "3. Построить зависимость амплитудного разрешения счетчика ∆A/A от напряжения\r\n",
    "для пропорционального и стримерного режимов на одном графике. ∆A — ширина\r\n",
    "пика на полувысоте, A — среднее значение амплитуды."
   ]
  },
  {
   "cell_type": "code",
   "execution_count": 52,
   "id": "9d3bbe8b-ba82-473c-8073-fa78f13f894a",
   "metadata": {},
   "outputs": [],
   "source": [
    "data_df['first_resolution'] = data_df['first_width'] / data_df['first_mean']\n",
    "data_df['second_resolution'] = data_df['second_width'] / data_df['second_mean']"
   ]
  },
  {
   "cell_type": "code",
   "execution_count": 54,
   "id": "84c84631-87ce-4f8e-85c0-a49ca3fd29e9",
   "metadata": {},
   "outputs": [
    {
     "data": {
      "text/plain": [
       "<Axes: title={'center': 'Resolution'}, xlabel='voltage'>"
      ]
     },
     "execution_count": 54,
     "metadata": {},
     "output_type": "execute_result"
    },
    {
     "data": {
      "image/png": "[encoded data removed]",
      "text/plain": [
       "<Figure size 640x480 with 1 Axes>"
      ]
     },
     "metadata": {},
     "output_type": "display_data"
    }
   ],
   "source": [
    "data_df.plot(x='voltage', y=['first_resolution', 'second_resolution'], title='Resolution', grid=True, kind='line', marker='o')"
   ]
  },
  {
   "cell_type": "markdown",
   "id": "4780c684-d2a9-4bde-a6a6-2824cbaee739",
   "metadata": {},
   "source": [
    "4. Дать объяснение изменению амплитудных спектров в зависимости от напряжения.\n",
    "   \n",
    "См. теорию"
   ]
  },
  {
   "cell_type": "markdown",
   "id": "b50fc345-e4d2-406c-a3e9-8fb206a55863",
   "metadata": {},
   "source": [
    "5. Ответить на контрольные вопросы.\n",
    "   \n",
    "См. ниже."
   ]
  },
  {
   "cell_type": "markdown",
   "id": "e3879688-6273-4a5a-afd6-def5ae04150c",
   "metadata": {},
   "source": [
    "## Вопросы"
   ]
  },
  {
   "cell_type": "markdown",
   "id": "e6d36a798a3cd151",
   "metadata": {
    "collapsed": false,
    "jupyter": {
     "outputs_hidden": false
    }
   },
   "source": [
    "### Механизм образования, дрейфа и усиления ионизации в газовом цилиндрическом счетчике.\n",
    "\n",
    "см. теорию"
   ]
  },
  {
   "cell_type": "markdown",
   "id": "c73ac086f2ba5ef2",
   "metadata": {
    "collapsed": false,
    "jupyter": {
     "outputs_hidden": false
    }
   },
   "source": [
    "### Особенности разных режимов работы газового цилиндрического счетчика.\n",
    "\n",
    "см. теорию"
   ]
  },
  {
   "cell_type": "markdown",
   "id": "19e31d29a54429b9",
   "metadata": {
    "collapsed": false,
    "jupyter": {
     "outputs_hidden": false
    }
   },
   "source": [
    "### Почему отличаются формы импульсов при облучении изотопами 55Fe и 90Sr?\n",
    "..."
   ]
  },
  {
   "cell_type": "markdown",
   "id": "639ec184415735a6",
   "metadata": {
    "collapsed": false,
    "jupyter": {
     "outputs_hidden": false
    }
   },
   "source": [
    "### Чем определяется длительность переднего и заднего фронта импульса со счётчика в пропорциональном режиме?\n",
    "..."
   ]
  },
  {
   "cell_type": "code",
   "execution_count": null,
   "id": "d77de609347f03e6",
   "metadata": {
    "ExecuteTime": {
     "end_time": "2024-02-12T05:23:24.959890300Z",
     "start_time": "2024-02-12T05:23:24.947890900Z"
    },
    "collapsed": false,
    "jupyter": {
     "outputs_hidden": false
    }
   },
   "outputs": [],
   "source": []
  }
 ],
 "metadata": {
  "kernelspec": {
   "display_name": "Python 3 (ipykernel)",
   "language": "python",
   "name": "python3"
  },
  "language_info": {
   "codemirror_mode": {
    "name": "ipython",
    "version": 3
   },
   "file_extension": ".py",
   "mimetype": "text/x-python",
   "name": "python",
   "nbconvert_exporter": "python",
   "pygments_lexer": "ipython3",
   "version": "3.11.0"
  },
  "widgets": {
   "application/vnd.jupyter.widget-state+json": {
    "state": {},
    "version_major": 2,
    "version_minor": 0
   }
  }
 },
 "nbformat": 4,
 "nbformat_minor": 5
}
